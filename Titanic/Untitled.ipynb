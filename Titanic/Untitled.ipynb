{
 "cells": [
  {
   "cell_type": "code",
   "execution_count": 64,
   "metadata": {},
   "outputs": [
    {
     "data": {
      "text/html": [
       "<script>\n",
       "code_show=true; \n",
       "function code_toggle() {\n",
       " if (code_show){\n",
       " $('div.input').hide();\n",
       " } else {\n",
       " $('div.input').show();\n",
       " }\n",
       " code_show = !code_show\n",
       "} \n",
       "$( document ).ready(code_toggle);\n",
       "</script>\n",
       "<form action=\"javascript:code_toggle()\"><input type=\"submit\" value=\"Click here to toggle on/off the raw code.\"></form>"
      ],
      "text/plain": [
       "<IPython.core.display.HTML object>"
      ]
     },
     "execution_count": 64,
     "metadata": {},
     "output_type": "execute_result"
    }
   ],
   "source": [
    "#https://stackoverflow.com/questions/27934885/how-to-hide-code-from-cells-in-ipython-notebook-visualized-with-nbviewer\n",
    "#cool code for a button to hide code \n",
    "from IPython.display import HTML\n",
    "\n",
    "HTML('''<script>\n",
    "code_show=true; \n",
    "function code_toggle() {\n",
    " if (code_show){\n",
    " $('div.input').hide();\n",
    " } else {\n",
    " $('div.input').show();\n",
    " }\n",
    " code_show = !code_show\n",
    "} \n",
    "$( document ).ready(code_toggle);\n",
    "</script>\n",
    "<form action=\"javascript:code_toggle()\"><input type=\"submit\" value=\"Click here to toggle on/off the raw code.\"></form>''')"
   ]
  },
  {
   "cell_type": "code",
   "execution_count": 1,
   "metadata": {},
   "outputs": [],
   "source": [
    "import pandas as pd\n",
    "import seaborn as sns\n",
    "import matplotlib.pyplot as plt\n",
    "import numpy as np\n",
    "import tabulate\n",
    "import statistical_tools as s_tools\n",
    "#plotting with seaborn\n",
    "#https://cmdlinetips.com/2019/02/how-to-make-histogram-in-python-with-pandas-and-seaborn/\n",
    "\n",
    "test = pd.read_csv(\"test.csv\")\n",
    "train = pd.read_csv(\"train.csv\")"
   ]
  },
  {
   "cell_type": "markdown",
   "metadata": {},
   "source": [
    "##### Titanic data exploration\n",
    "\n",
    "So I'm looking to practice my data exploration skills but also formulating clean hypothesis that can be tested. I'm doing this while working through statistical-thinking on DataCamp. I want to play around with these techniques when I see them to get a feel for them\n",
    "\n",
    "So when I grabbed this Titanic data, before even looking into the data, I had a thought (My knowledge influenced soley by the Movie!), that the woman and children were supposedly prioritized when the ship was sinking.\n",
    "\n",
    "I will test this for Children and Women seperately\n",
    "\n",
    "###### Children\n",
    "\n",
    "So to put this in research terms I will say: <br />\n",
    "My alternate hypothesis $\\mu_a$ = Children had greater survival rates than the overall survival rates of passengers on board<br />\n",
    "My Null hypothesis $\\mu_0$ = Children had the same survival rates as the overall survival rates of passengers on board\n",
    "\n",
    "Let's look quickly at the dataframe loaded from the 'test.csv' data"
   ]
  },
  {
   "cell_type": "code",
   "execution_count": 54,
   "metadata": {},
   "outputs": [
    {
     "data": {
      "text/html": [
       "<div>\n",
       "<style scoped>\n",
       "    .dataframe tbody tr th:only-of-type {\n",
       "        vertical-align: middle;\n",
       "    }\n",
       "\n",
       "    .dataframe tbody tr th {\n",
       "        vertical-align: top;\n",
       "    }\n",
       "\n",
       "    .dataframe thead th {\n",
       "        text-align: right;\n",
       "    }\n",
       "</style>\n",
       "<table border=\"1\" class=\"dataframe\">\n",
       "  <thead>\n",
       "    <tr style=\"text-align: right;\">\n",
       "      <th></th>\n",
       "      <th>PassengerId</th>\n",
       "      <th>Survived</th>\n",
       "      <th>Pclass</th>\n",
       "      <th>Name</th>\n",
       "      <th>Sex</th>\n",
       "      <th>Age</th>\n",
       "      <th>SibSp</th>\n",
       "      <th>Parch</th>\n",
       "      <th>Ticket</th>\n",
       "      <th>Fare</th>\n",
       "      <th>Cabin</th>\n",
       "      <th>Embarked</th>\n",
       "    </tr>\n",
       "  </thead>\n",
       "  <tbody>\n",
       "    <tr>\n",
       "      <th>0</th>\n",
       "      <td>1</td>\n",
       "      <td>0</td>\n",
       "      <td>3</td>\n",
       "      <td>Braund, Mr. Owen Harris</td>\n",
       "      <td>male</td>\n",
       "      <td>22.0</td>\n",
       "      <td>1</td>\n",
       "      <td>0</td>\n",
       "      <td>A/5 21171</td>\n",
       "      <td>7.2500</td>\n",
       "      <td>NaN</td>\n",
       "      <td>S</td>\n",
       "    </tr>\n",
       "    <tr>\n",
       "      <th>1</th>\n",
       "      <td>2</td>\n",
       "      <td>1</td>\n",
       "      <td>1</td>\n",
       "      <td>Cumings, Mrs. John Bradley (Florence Briggs Th...</td>\n",
       "      <td>female</td>\n",
       "      <td>38.0</td>\n",
       "      <td>1</td>\n",
       "      <td>0</td>\n",
       "      <td>PC 17599</td>\n",
       "      <td>71.2833</td>\n",
       "      <td>C85</td>\n",
       "      <td>C</td>\n",
       "    </tr>\n",
       "    <tr>\n",
       "      <th>2</th>\n",
       "      <td>3</td>\n",
       "      <td>1</td>\n",
       "      <td>3</td>\n",
       "      <td>Heikkinen, Miss. Laina</td>\n",
       "      <td>female</td>\n",
       "      <td>26.0</td>\n",
       "      <td>0</td>\n",
       "      <td>0</td>\n",
       "      <td>STON/O2. 3101282</td>\n",
       "      <td>7.9250</td>\n",
       "      <td>NaN</td>\n",
       "      <td>S</td>\n",
       "    </tr>\n",
       "    <tr>\n",
       "      <th>3</th>\n",
       "      <td>4</td>\n",
       "      <td>1</td>\n",
       "      <td>1</td>\n",
       "      <td>Futrelle, Mrs. Jacques Heath (Lily May Peel)</td>\n",
       "      <td>female</td>\n",
       "      <td>35.0</td>\n",
       "      <td>1</td>\n",
       "      <td>0</td>\n",
       "      <td>113803</td>\n",
       "      <td>53.1000</td>\n",
       "      <td>C123</td>\n",
       "      <td>S</td>\n",
       "    </tr>\n",
       "    <tr>\n",
       "      <th>4</th>\n",
       "      <td>5</td>\n",
       "      <td>0</td>\n",
       "      <td>3</td>\n",
       "      <td>Allen, Mr. William Henry</td>\n",
       "      <td>male</td>\n",
       "      <td>35.0</td>\n",
       "      <td>0</td>\n",
       "      <td>0</td>\n",
       "      <td>373450</td>\n",
       "      <td>8.0500</td>\n",
       "      <td>NaN</td>\n",
       "      <td>S</td>\n",
       "    </tr>\n",
       "  </tbody>\n",
       "</table>\n",
       "</div>"
      ],
      "text/plain": [
       "   PassengerId  Survived  Pclass  \\\n",
       "0            1         0       3   \n",
       "1            2         1       1   \n",
       "2            3         1       3   \n",
       "3            4         1       1   \n",
       "4            5         0       3   \n",
       "\n",
       "                                                Name     Sex   Age  SibSp  \\\n",
       "0                            Braund, Mr. Owen Harris    male  22.0      1   \n",
       "1  Cumings, Mrs. John Bradley (Florence Briggs Th...  female  38.0      1   \n",
       "2                             Heikkinen, Miss. Laina  female  26.0      0   \n",
       "3       Futrelle, Mrs. Jacques Heath (Lily May Peel)  female  35.0      1   \n",
       "4                           Allen, Mr. William Henry    male  35.0      0   \n",
       "\n",
       "   Parch            Ticket     Fare Cabin Embarked  \n",
       "0      0         A/5 21171   7.2500   NaN        S  \n",
       "1      0          PC 17599  71.2833   C85        C  \n",
       "2      0  STON/O2. 3101282   7.9250   NaN        S  \n",
       "3      0            113803  53.1000  C123        S  \n",
       "4      0            373450   8.0500   NaN        S  "
      ]
     },
     "execution_count": 54,
     "metadata": {},
     "output_type": "execute_result"
    }
   ],
   "source": [
    "train.head()"
   ]
  },
  {
   "cell_type": "markdown",
   "metadata": {},
   "source": [
    "Nice an deasy, we have a 1 or 0 for survived and didn't survive respectively, and the age in another column. \n",
    "So we want maybe good a good look at the distributions of those that did and didn't survive, just as a nice visual."
   ]
  },
  {
   "cell_type": "code",
   "execution_count": 55,
   "metadata": {},
   "outputs": [],
   "source": [
    "survived = train[train['Survived'] == 1]\n"
   ]
  },
  {
   "cell_type": "code",
   "execution_count": 56,
   "metadata": {},
   "outputs": [
    {
     "data": {
      "text/plain": [
       "Text(0, 0.5, 'Density')"
      ]
     },
     "execution_count": 56,
     "metadata": {},
     "output_type": "execute_result"
    },
    {
     "data": {
      "image/png": "[encoded data removed]",
      "text/plain": [
       "<Figure size 432x288 with 1 Axes>"
      ]
     },
     "metadata": {
      "needs_background": "light"
     },
     "output_type": "display_data"
    }
   ],
   "source": [
    "\n",
    "sns.distplot(train['Age'],  kde=False, label='all ages')\n",
    "sns.distplot(survived['Age'],  kde=False,label='Survived age')\n",
    "\n",
    "plt.legend(prop={'size': 12})\n",
    "plt.title('All passengers ages vs survived passengers')\n",
    "plt.xlabel('Age groups')\n",
    "plt.ylabel('Density')"
   ]
  },
  {
   "cell_type": "markdown",
   "metadata": {},
   "source": [
    "You can see here with this overlay of the surviving and non-surviving groups by age that there is a bigger gap between the middle ages compared to the children. This is heavily infavour of our hypothesis, but we can get a more detailed look than this. By seeing the rates (proportions saved) for each age bracket."
   ]
  },
  {
   "cell_type": "code",
   "execution_count": 57,
   "metadata": {},
   "outputs": [
    {
     "name": "stdout",
     "output_type": "stream",
     "text": [
      "|    |   Age group |   Survival rate |   Group count |\n",
      "|---:|------------:|----------------:|--------------:|\n",
      "|  0 |           0 |        0.675    |            40 |\n",
      "|  1 |           5 |        0.5      |            22 |\n",
      "|  2 |          10 |        0.4375   |            16 |\n",
      "|  3 |          15 |        0.395349 |            86 |\n",
      "|  4 |          20 |        0.342105 |           114 |\n",
      "|  5 |          25 |        0.358491 |           106 |\n",
      "|  6 |          30 |        0.421053 |            95 |\n",
      "|  7 |          35 |        0.458333 |            72 |\n",
      "|  8 |          40 |        0.375    |            48 |\n",
      "|  9 |          45 |        0.390244 |            41 |\n",
      "| 10 |          50 |        0.4375   |            32 |\n",
      "| 11 |          55 |        0.375    |            16 |\n",
      "| 12 |          60 |        0.4      |            15 |\n",
      "| 13 |          65 |        0        |             4 |\n",
      "| 14 |          70 |        0        |             6 |\n",
      "| 15 |          75 |        0        |             0 |\n",
      "| 16 |          80 |        1        |             1 |\n"
     ]
    },
    {
     "data": {
      "image/png": "[encoded data removed]",
      "text/plain": [
       "<Figure size 432x288 with 1 Axes>"
      ]
     },
     "metadata": {
      "needs_background": "light"
     },
     "output_type": "display_data"
    }
   ],
   "source": [
    "def age_group_plot_and_table(s, t):  \n",
    "    perc_survived = np.empty(18)\n",
    "    age_dict = {}\n",
    "    totals_dict = {}\n",
    "    #print(perc_survived)\n",
    "    for i in np.linspace(0, 80, 17):\n",
    "        #print(i)\n",
    "        srv = s[(s['Age'] >= i) & (s['Age'] < (i + 5))]\n",
    "        srv = srv['Age']\n",
    "        total = t[(t['Age'] >= i) & (t['Age'] < i+5)]\n",
    "        total = total['Age']\n",
    "\n",
    "        if len(total.values) != 0:\n",
    "            age_dict[i]  =  float(len(srv.values)/len(total.values))\n",
    "            totals_dict[i] = len(total.values)\n",
    "        else:\n",
    "            age_dict[i]  =  float(0)\n",
    "            totals_dict[i] = 0\n",
    "\n",
    "    df = pd.DataFrame({'Age group': list(age_dict.keys()), 'Survival rate': list(age_dict.values()), 'Group count':  list(totals_dict.values())})\n",
    "\n",
    "    sns.barplot(x = 'Age group', y = 'Survival rate', data = df)\n",
    "    print(df.to_markdown()) \n",
    "    \n",
    "    \n",
    "age_group_plot_and_table(survived, train)"
   ]
  },
  {
   "cell_type": "markdown",
   "metadata": {},
   "source": [
    "Here I've plotted the survival rates by age group, and also the table of these rates - this helps us interpet some extreme results such as the 100% survival rate of the >80 year olds, but we can see that there was only 1 of them, so not a great  sample size for that population!\n",
    "\n",
    "But through the younger range we can a definite trending towards more survival roughly through the 0-15 years old range.\n",
    "\n",
    "Now our null hypothesis was that all the rates were actually the same.\n",
    "\n",
    "So we need to ask the questions:\n",
    "<ul>\n",
    "<li>How can we measure this objectively - and not just eyeball this graph (Another time analysing data, things might not be so clear cut)  </li>\n",
    "<li>Using this measure, we can ask, what is the chance these observed differences are down to pure chance and variability?</li>\n",
    "</ul>\n",
    "\n",
    "\n",
    "So first, what was the total overall survival rate?\n"
   ]
  },
  {
   "cell_type": "code",
   "execution_count": 60,
   "metadata": {},
   "outputs": [
    {
     "name": "stdout",
     "output_type": "stream",
     "text": [
      "Overall suvival rate 0.3838383838383838\n"
     ]
    }
   ],
   "source": [
    "'Now let\\'s simulate a group with the same survival rate, but with the assumption that there were no differences between age group survivals'\n",
    "print('Overall suvival rate {}'.format(len(train[train['Survived'] == 1])/len(train['Survived'])))\n"
   ]
  },
  {
   "cell_type": "markdown",
   "metadata": {},
   "source": [
    "\n",
    "So how we will test this, is we will take this data set and create 'Permutation Samples'. The picture below (Curtosy of DataCamps lessons on Statistical thinking) shows an example of this perumtation, we take this sample of data, where the red and blue represent 2 different categories (such as young and old people) and these different data categories have some other shared data type (in this picture we can just say some numerical measure).\n",
    "\n",
    "![Permutation](permutation_example.jpg)\n",
    "\n",
    "You then jumble up all of these numbers and act as if it is a new sample of the same data population (see a jumbled version below)\n",
    "\n",
    "\n",
    "![Permutation](permutation_example_jumbled.jpg)\n",
    "\n",
    "We can then use this new sample to calculate the same statistics as we did on the original data set, such as the survival rates.\n",
    "\n",
    "Now we have our original empirical data which at the moment we think has variations that are not simply random (Children with a higher survival rate) and then new data, which is now jumbled and represents what these categories (Young and old) may look like in another random sample of a data set (with the assumption that the survival rates are are now evenly distributed across the different age groups - since we just jumbled up the rates between the categories).\n",
    "\n",
    "In our testing we will actually calculate for these permutations the <b>different between young and old i.e (young_survival - old_survival)</b>.\n",
    "<br />"
   ]
  },
  {
   "cell_type": "markdown",
   "metadata": {},
   "source": [
    "Finally, we do this jumbling a large number of times, thus giving us a good distribution of the rates of this sample if it were constantly random. \n",
    "\n",
    "So now we have arrived where we wanted for the ability to do a significance test between the original data and the data that would represent a world where there is no difference between survival rates betweent he age groups (Our random rates world).\n",
    "\n",
    "We can then take the mean of all of these permutation samples rates (rates of the difference between survival). And plot them as a probability distribution, this enables us to use our test statistic against our probability distribution.\n",
    "\n",
    "That is, the probability of our Alternate hypothesis <b>given</b> our null hypothesis. Or the probability of the survival rate difference that we have oberved, if we assumed that the age groups actually did have an equal chance of survival (as seen in our random world).\n",
    "\n",
    "This is written probabilistically as:\n",
    "P($\\mu_a$ | $\\mu_0$) = 'p-value'\n",
    "\n"
   ]
  },
  {
   "cell_type": "code",
   "execution_count": 61,
   "metadata": {},
   "outputs": [],
   "source": [
    "#lambda function for rate\n",
    "def diff_rates(d1, d2):\n",
    "    survival_rate =  lambda x: sum(x)/len(x)\n",
    "    #I refrained from getting absolute value just to show that the permutations replicates will be normally distributed\n",
    "    return (survival_rate(d2) - survival_rate(d1)) \n",
    "\n",
    "range_0_to_15 =  train[(train['Age'] >= 0) & (train['Age'] < (15))]\n",
    "range_gt_or_eq_15 = train[(train['Age'] >= 15)]\n",
    "#print(range_0_to_15)\n",
    "#perm_sample1, perm_sample2 = s_tools.permutation_sample(range_0_to_15, range_gt_or_eq_15)\n",
    "\n",
    "# Take 10,000 bootstrap replicates of the rate: calculating boostrap replicates\n",
    "perm_replicates = s_tools.draw_perm_reps(range_0_to_15['Survived'], range_gt_or_eq_15['Survived'], diff_rates, size=10000)\n",
    "\n"
   ]
  },
  {
   "cell_type": "code",
   "execution_count": 62,
   "metadata": {},
   "outputs": [
    {
     "name": "stdout",
     "output_type": "stream",
     "text": [
      "Original rate would be miles off in the right side direction! 0.19170295113691332\n"
     ]
    },
    {
     "data": {
      "image/png": "[encoded data removed]",
      "text/plain": [
       "<Figure size 432x288 with 1 Axes>"
      ]
     },
     "metadata": {
      "needs_background": "light"
     },
     "output_type": "display_data"
    }
   ],
   "source": [
    "orig_rate =  survival_rate(range_0_to_15['Survived']) - survival_rate(range_gt_or_eq_15['Survived'])\n",
    "norm_repl_data = np.true_divide(perm_replicates, len(perm_replicates))\n",
    "sns.distplot(norm_repl_data)\n",
    "\n",
    "plt.title('Distribution of permutation replicas (Difference in survival Arate between \\'Young\\' and \\'old\\')')\n",
    "plt.xlabel('Difference')\n",
    "plt.ylabel('Distribution')\n",
    "print('Original rate would be miles off in the right side direction! {}'.format(orig_rate))"
   ]
  },
  {
   "cell_type": "markdown",
   "metadata": {},
   "source": [
    "So above we can see this distribution of our samples, and of course in a world where everyone has an equal survival rate, therefore we would expect this to center around a mean of 0. And if we plotted our original survival rate (0.19), it would be out of the graph far off on the right-hand side. Our statistical test in terms of this graph asks the question, how much proportion of this distribution (in blue on the graph) would be equal or above our test statistic (the original survival difference). In this case, very little! Because original survival rate is so far above what would be considered a normal rate in our simulated world where we have assumed that all ages have equal survival chance.\n"
   ]
  },
  {
   "cell_type": "code",
   "execution_count": 67,
   "metadata": {},
   "outputs": [
    {
     "name": "stdout",
     "output_type": "stream",
     "text": [
      "Original rate difference 0.19170295113691332\n",
      "p-value = 0.0006\n"
     ]
    }
   ],
   "source": [
    "# Compute p-value: p\n",
    "print('Original rate difference {}'.format(orig_rate))\n",
    "p = np.sum(perm_replicates >= orig_rate) / len(perm_replicates)\n",
    "# Print the result\n",
    "print('p-value = {}'.format(p, '.5f'))"
   ]
  },
  {
   "cell_type": "markdown",
   "metadata": {},
   "source": [
    "Calculating that proportion gives us a p-value, and above we can see how low that p-value is, we could have set a specific significane cut of for the p-value such as 0.05, but in this case it is very low and we are satisified with it's significance. \n",
    "\n",
    "So in terms of language: This is the probability of getting at least a difference in young-old survival rate of '0.19', given assuming each age group had an equal chance of survival. \n",
    "\n",
    "So given that our probability of a rate of '0.19' at least is 0.0006%, we can safely say that this is a very rare result. So we reject the null hypothesis in favour of the Alternate hypothesis, this supports our information that young people were given priorty. \n"
   ]
  },
  {
   "cell_type": "markdown",
   "metadata": {},
   "source": [
    "We should now be able to do a similar test for the women\n",
    "\n",
    "###### Women....."
   ]
  }
 ],
 "metadata": {
  "kernelspec": {
   "display_name": "Python 3",
   "language": "python",
   "name": "python3"
  },
  "language_info": {
   "codemirror_mode": {
    "name": "ipython",
    "version": 3
   },
   "file_extension": ".py",
   "mimetype": "text/x-python",
   "name": "python",
   "nbconvert_exporter": "python",
   "pygments_lexer": "ipython3",
   "version": "3.7.4"
  }
 },
 "nbformat": 4,
 "nbformat_minor": 4
}
