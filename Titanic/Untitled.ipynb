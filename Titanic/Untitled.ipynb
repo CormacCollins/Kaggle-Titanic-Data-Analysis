{
 "cells": [
  {
   "cell_type": "code",
   "execution_count": null,
   "metadata": {},
   "outputs": [],
   "source": [
    "#https://stackoverflow.com/questions/27934885/how-to-hide-code-from-cells-in-ipython-notebook-visualized-with-nbviewer\n",
    "#cool code for a button to hide code \n",
    "from IPython.display import HTML\n",
    "\n",
    "HTML('''<script>\n",
    "code_show=true; \n",
    "function code_toggle() {\n",
    " if (code_show){\n",
    " $('div.input').hide();\n",
    " } else {\n",
    " $('div.input').show();\n",
    " }\n",
    " code_show = !code_show\n",
    "} \n",
    "$( document ).ready(code_toggle);\n",
    "</script>\n",
    "<form action=\"javascript:code_toggle()\"><input type=\"submit\" value=\"Click here to toggle on/off the raw code.\"></form>''')\n"
   ]
  },
  {
   "cell_type": "code",
   "execution_count": 173,
   "metadata": {},
   "outputs": [],
   "source": [
    "import pandas as pd\n",
    "import seaborn as sns\n",
    "import matplotlib.pyplot as plt\n",
    "import numpy as np\n",
    "import tabulate\n",
    "import statistical_tools as s_tools\n",
    "import statsmodels.api as sm \n",
    "from statsmodels.formula.api import glm \n",
    "#plotting with seaborn\n",
    "#https://cmdlinetips.com/2019/02/how-to-make-histogram-in-python-with-pandas-and-seaborn/\n",
    "\n",
    "train = pd.read_csv(\"train.csv\")\n",
    "test = pd.read_csv(\"test.csv\")"
   ]
  },
  {
   "cell_type": "code",
   "execution_count": 47,
   "metadata": {},
   "outputs": [
    {
     "data": {
      "text/plain": [
       "891"
      ]
     },
     "execution_count": 47,
     "metadata": {},
     "output_type": "execute_result"
    }
   ],
   "source": []
  },
  {
   "cell_type": "code",
   "execution_count": 174,
   "metadata": {},
   "outputs": [],
   "source": [
    "train = train[train['Age'].notna()]\n",
    "train = train[train['Pclass'].notna()]\n",
    "train = train[train['Sex'].notna()]"
   ]
  },
  {
   "cell_type": "code",
   "execution_count": 211,
   "metadata": {},
   "outputs": [
    {
     "name": "stdout",
     "output_type": "stream",
     "text": [
      "   variables        VIF\n",
      "0        Age   1.311466\n",
      "1      Parch   1.241783\n",
      "2      SibSp   1.263703\n",
      "3    class 2   1.546774\n",
      "4    class 3   1.770723\n",
      "5          F   1.114458\n",
      "6  Intercept  15.839099\n"
     ]
    }
   ],
   "source": [
    "from statsmodels.stats.outliers_influence import variance_inflation_factor \n",
    "\n",
    "# Get variables for which to compute VIF and add intercept term \n",
    "#Pclass == 1 and Sex == male are the reference factors for those categories - it is redundant to put them in and actually causes errors\n",
    "\n",
    "X = train[['Age', 'Parch', 'SibSp']].copy()\n",
    "X['class 2'] = np.where(train['Pclass']== 2, 1, 0)\n",
    "X['class 3'] = np.where(train['Pclass']== 3, 1, 0)\n",
    "X['F'] = np.where(train['Sex']== 'female', 1, 0)\n",
    "X['Intercept'] = 1 \n",
    "\n",
    "  \n",
    "\n",
    "# Compute and view VIF \n",
    "vif = pd.DataFrame() \n",
    "vif[\"variables\"] = X.columns \n",
    "\n",
    "vif[\"VIF\"] = [variance_inflation_factor(X.values, i) for i in range(X.shape[1])] \n",
    "\n",
    "  \n",
    "\n",
    "# View results using print \n",
    "\n",
    "print(vif) "
   ]
  },
  {
   "cell_type": "code",
   "execution_count": 222,
   "metadata": {},
   "outputs": [
    {
     "name": "stdout",
     "output_type": "stream",
     "text": [
      "                 Generalized Linear Model Regression Results                  \n",
      "==============================================================================\n",
      "Dep. Variable:               Survived   No. Observations:                  450\n",
      "Model:                            GLM   Df Residuals:                      443\n",
      "Model Family:                Binomial   Df Model:                            6\n",
      "Link Function:                  logit   Scale:                          1.0000\n",
      "Method:                          IRLS   Log-Likelihood:                -205.83\n",
      "Date:                Tue, 12 May 2020   Deviance:                       411.66\n",
      "Time:                        15:41:27   Pearson chi2:                     472.\n",
      "No. Iterations:                     5                                         \n",
      "Covariance Type:            nonrobust                                         \n",
      "=======================================================================================================\n",
      "                                          coef    std err          z      P>|z|      [0.025      0.975]\n",
      "-------------------------------------------------------------------------------------------------------\n",
      "Intercept                               1.2002      0.495      2.425      0.015       0.230       2.170\n",
      "C(Sex, Treatment('male'))[T.female]     2.6361      0.263     10.018      0.000       2.120       3.152\n",
      "C(Pclass, Treatment(1))[T.2]           -0.9088      0.354     -2.568      0.010      -1.603      -0.215\n",
      "C(Pclass, Treatment(1))[T.3]           -2.0582      0.343     -6.002      0.000      -2.730      -1.386\n",
      "Age                                    -0.0432      0.010     -4.148      0.000      -0.064      -0.023\n",
      "Parch                                   0.0174      0.163      0.106      0.915      -0.303       0.338\n",
      "SibSp                                  -0.4091      0.153     -2.667      0.008      -0.710      -0.108\n",
      "=======================================================================================================\n"
     ]
    }
   ],
   "source": [
    "# Define model formula \n",
    "\n",
    "train_half = train[0:450].copy()\n",
    "train_2nd_half = train[450:len(train)].copy()\n",
    "\n",
    "formula = 'Survived ~ C(Sex, Treatment(\\'male\\')) + C(Pclass, Treatment(1)) + Age + Parch + SibSp' \n",
    "\n",
    "model = glm(formula, data = train_half, family = sm.families.Binomial()).fit() \n",
    "\n",
    "print(model.summary()) \n",
    "pred_glm = model.predict(train_2nd_half) \n",
    "#predicted_survive = (pred_glm >= 0.5)\n",
    "train_2nd_half['expected_survive'] = pred_glm\n",
    " "
   ]
  },
  {
   "cell_type": "code",
   "execution_count": 216,
   "metadata": {},
   "outputs": [],
   "source": [
    "#train_2nd_half[0:30]"
   ]
  },
  {
   "cell_type": "code",
   "execution_count": null,
   "metadata": {},
   "outputs": [],
   "source": []
  },
  {
   "cell_type": "code",
   "execution_count": 240,
   "metadata": {},
   "outputs": [
    {
     "name": "stdout",
     "output_type": "stream",
     "text": [
      "Best threshold: 0.5641025641025641\n"
     ]
    }
   ],
   "source": [
    "# Compute estimated probabilities for GLM model: pred_glm\n",
    "\n",
    " \n",
    "l = list()\n",
    "\n",
    "for i in np.linspace(0.0, 1, 40):\n",
    "    predicted_survive = (pred_glm >= i)\n",
    "    #print(predicted_survive)\n",
    "    #break\n",
    "    #print(predicted_survive)\n",
    "    #print(train_2nd_half['Survived'])\n",
    "    num_correct = (predicted_survive.astype(bool)) == (train_2nd_half['Survived'].astype(bool))\n",
    "    s = pd.DataFrame({'pred': predicted_survive,\n",
    "                  'surv': train_2nd_half['Survived'],\n",
    "                     'AND': num_correct})\n",
    "    #print(s[0:20])\n",
    "    #break\n",
    "    l.append([i, sum(num_correct)])\n",
    "\n",
    "m = 0\n",
    "pr = 0\n",
    "for i in l:\n",
    "    if i[1] > m:\n",
    "        m = i[1]\n",
    "        pr = i[0]\n",
    "        \n",
    "print('Best threshold: {}'.format(pr))\n",
    "\n"
   ]
  },
  {
   "cell_type": "code",
   "execution_count": 248,
   "metadata": {},
   "outputs": [
    {
     "data": {
      "text/plain": [
       "418"
      ]
     },
     "execution_count": 248,
     "metadata": {},
     "output_type": "execute_result"
    }
   ],
   "source": [
    "len(test)"
   ]
  },
  {
   "cell_type": "code",
   "execution_count": 249,
   "metadata": {},
   "outputs": [
    {
     "name": "stdout",
     "output_type": "stream",
     "text": [
      "                 Generalized Linear Model Regression Results                  \n",
      "==============================================================================\n",
      "Dep. Variable:               Survived   No. Observations:                  714\n",
      "Model:                            GLM   Df Residuals:                      707\n",
      "Model Family:                Binomial   Df Model:                            6\n",
      "Link Function:                  logit   Scale:                          1.0000\n",
      "Method:                          IRLS   Log-Likelihood:                -318.23\n",
      "Date:                Tue, 12 May 2020   Deviance:                       636.46\n",
      "Time:                        16:04:51   Pearson chi2:                     748.\n",
      "No. Iterations:                     5                                         \n",
      "Covariance Type:            nonrobust                                         \n",
      "=======================================================================================================\n",
      "                                          coef    std err          z      P>|z|      [0.025      0.975]\n",
      "-------------------------------------------------------------------------------------------------------\n",
      "Intercept                               1.7142      0.395      4.335      0.000       0.939       2.489\n",
      "C(Sex, Treatment('male'))[T.female]     2.6423      0.220     12.024      0.000       2.212       3.073\n",
      "C(Pclass, Treatment(1))[T.2]           -1.4154      0.285     -4.971      0.000      -1.973      -0.857\n",
      "C(Pclass, Treatment(1))[T.3]           -2.6502      0.286     -9.275      0.000      -3.210      -2.090\n",
      "Age                                    -0.0448      0.008     -5.448      0.000      -0.061      -0.029\n",
      "Parch                                  -0.0386      0.120     -0.323      0.747      -0.273       0.196\n",
      "SibSp                                  -0.3683      0.127     -2.904      0.004      -0.617      -0.120\n",
      "=======================================================================================================\n"
     ]
    }
   ],
   "source": [
    "# RUN MODEL ON TEST DATA\n",
    "\n",
    "formula = 'Survived ~ C(Sex, Treatment(\\'male\\')) + C(Pclass, Treatment(1)) + Age + Parch + SibSp' \n",
    "\n",
    "model = glm(formula, data = train, family = sm.families.Binomial()).fit() \n",
    "\n",
    "print(model.summary()) \n"
   ]
  },
  {
   "cell_type": "code",
   "execution_count": 250,
   "metadata": {},
   "outputs": [],
   "source": [
    "pred_glm = model.predict(test) \n",
    "predicted_survive = (pred_glm >= pr)\n",
    "test['Survived'] = predicted_survive.astype(int)\n",
    "test_file = test[['PassengerId', 'Survived']]\n",
    "test_file.to_csv('submission.csv')"
   ]
  },
  {
   "cell_type": "code",
   "execution_count": null,
   "metadata": {},
   "outputs": [],
   "source": [
    "'0.784 score on kaggle - not bad!''"
   ]
  }
 ],
 "metadata": {
  "kernelspec": {
   "display_name": "Python 3",
   "language": "python",
   "name": "python3"
  },
  "language_info": {
   "codemirror_mode": {
    "name": "ipython",
    "version": 3
   },
   "file_extension": ".py",
   "mimetype": "text/x-python",
   "name": "python",
   "nbconvert_exporter": "python",
   "pygments_lexer": "ipython3",
   "version": "3.7.4"
  }
 },
 "nbformat": 4,
 "nbformat_minor": 4
}
