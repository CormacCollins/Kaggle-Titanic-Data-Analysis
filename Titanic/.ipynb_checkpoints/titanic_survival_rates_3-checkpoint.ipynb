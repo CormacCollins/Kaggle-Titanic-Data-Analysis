{
 "cells": [
  {
   "cell_type": "code",
   "execution_count": 1,
   "metadata": {},
   "outputs": [
    {
     "data": {
      "text/html": [
       "<script>\n",
       "code_show=true; \n",
       "function code_toggle() {\n",
       " if (code_show){\n",
       " $('div.input').hide();\n",
       " } else {\n",
       " $('div.input').show();\n",
       " }\n",
       " code_show = !code_show\n",
       "} \n",
       "$( document ).ready(code_toggle);\n",
       "</script>\n",
       "<form action=\"javascript:code_toggle()\"><input type=\"submit\" value=\"Click here to toggle on/off the raw code.\"></form>"
      ],
      "text/plain": [
       "<IPython.core.display.HTML object>"
      ]
     },
     "execution_count": 1,
     "metadata": {},
     "output_type": "execute_result"
    }
   ],
   "source": [
    "#https://stackoverflow.com/questions/27934885/how-to-hide-code-from-cells-in-ipython-notebook-visualized-with-nbviewer\n",
    "#cool code for a button to hide code \n",
    "from IPython.display import HTML\n",
    "\n",
    "HTML('''<script>\n",
    "code_show=true; \n",
    "function code_toggle() {\n",
    " if (code_show){\n",
    " $('div.input').hide();\n",
    " } else {\n",
    " $('div.input').show();\n",
    " }\n",
    " code_show = !code_show\n",
    "} \n",
    "$( document ).ready(code_toggle);\n",
    "</script>\n",
    "<form action=\"javascript:code_toggle()\"><input type=\"submit\" value=\"Click here to toggle on/off the raw code.\"></form>''')"
   ]
  },
  {
   "cell_type": "code",
   "execution_count": 1,
   "metadata": {},
   "outputs": [],
   "source": [
    "import pandas as pd\n",
    "import seaborn as sns\n",
    "import matplotlib.pyplot as plt\n",
    "import numpy as np\n",
    "import tabulate\n",
    "import statistical_tools as s_tools\n",
    "from scipy.stats import binom, binom_test, chisquare, chi2_contingency\n",
    "from scipy import stats\n",
    "#plotting with seaborn\n",
    "#https://cmdlinetips.com/2019/02/how-to-make-histogram-in-python-with-pandas-and-seaborn/\n",
    "\n",
    "test = pd.read_csv(\"test.csv\")\n",
    "train = pd.read_csv(\"train.csv\")\n",
    "\n"
   ]
  },
  {
   "cell_type": "markdown",
   "metadata": {},
   "source": [
    "##### Titanic data exploration (3) \n",
    "\n",
    "So to add to our influencers of survival rate, we will look at 'Fare' and later 'Pclass' both representing the class of the individual. With Fare we might have a chance for a different style assessment, given it is a numberical value. However we you will see that we end up having to change our thoughts on analysis after some earlier exploratory analysis.\n",
    "\n",
    "So our analysis will include:\n",
    "\n",
    "<ul>\n",
    "    <ol>\n",
    "        <li>Fare <b>Exploration</b></li>\n",
    "        <li><b>Summary</b>/Thoughts on the data</li>\n",
    "        <li>Statistical test: <b>Sign test</b> (A variance on the binomial test)</li>  \n",
    "    </ol>\n",
    "    <ol>\n",
    "        <li>Pclass <b>Exploration</b></li>\n",
    "        <li><b>Summary</b></li>\n",
    "        <li><b>Chi-Squared</b> test</li>\n",
    "    </ol>\n",
    "    \n",
    "</ul>\n",
    "\n"
   ]
  },
  {
   "cell_type": "code",
   "execution_count": 2,
   "metadata": {},
   "outputs": [
    {
     "data": {
      "text/html": [
       "<div>\n",
       "<style scoped>\n",
       "    .dataframe tbody tr th:only-of-type {\n",
       "        vertical-align: middle;\n",
       "    }\n",
       "\n",
       "    .dataframe tbody tr th {\n",
       "        vertical-align: top;\n",
       "    }\n",
       "\n",
       "    .dataframe thead th {\n",
       "        text-align: right;\n",
       "    }\n",
       "</style>\n",
       "<table border=\"1\" class=\"dataframe\">\n",
       "  <thead>\n",
       "    <tr style=\"text-align: right;\">\n",
       "      <th></th>\n",
       "      <th>PassengerId</th>\n",
       "      <th>Survived</th>\n",
       "      <th>Pclass</th>\n",
       "      <th>Name</th>\n",
       "      <th>Sex</th>\n",
       "      <th>Age</th>\n",
       "      <th>SibSp</th>\n",
       "      <th>Parch</th>\n",
       "      <th>Ticket</th>\n",
       "      <th>Fare</th>\n",
       "      <th>Cabin</th>\n",
       "      <th>Embarked</th>\n",
       "    </tr>\n",
       "  </thead>\n",
       "  <tbody>\n",
       "    <tr>\n",
       "      <th>0</th>\n",
       "      <td>1</td>\n",
       "      <td>0</td>\n",
       "      <td>3</td>\n",
       "      <td>Braund, Mr. Owen Harris</td>\n",
       "      <td>male</td>\n",
       "      <td>22.0</td>\n",
       "      <td>1</td>\n",
       "      <td>0</td>\n",
       "      <td>A/5 21171</td>\n",
       "      <td>7.2500</td>\n",
       "      <td>NaN</td>\n",
       "      <td>S</td>\n",
       "    </tr>\n",
       "    <tr>\n",
       "      <th>1</th>\n",
       "      <td>2</td>\n",
       "      <td>1</td>\n",
       "      <td>1</td>\n",
       "      <td>Cumings, Mrs. John Bradley (Florence Briggs Th...</td>\n",
       "      <td>female</td>\n",
       "      <td>38.0</td>\n",
       "      <td>1</td>\n",
       "      <td>0</td>\n",
       "      <td>PC 17599</td>\n",
       "      <td>71.2833</td>\n",
       "      <td>C85</td>\n",
       "      <td>C</td>\n",
       "    </tr>\n",
       "    <tr>\n",
       "      <th>2</th>\n",
       "      <td>3</td>\n",
       "      <td>1</td>\n",
       "      <td>3</td>\n",
       "      <td>Heikkinen, Miss. Laina</td>\n",
       "      <td>female</td>\n",
       "      <td>26.0</td>\n",
       "      <td>0</td>\n",
       "      <td>0</td>\n",
       "      <td>STON/O2. 3101282</td>\n",
       "      <td>7.9250</td>\n",
       "      <td>NaN</td>\n",
       "      <td>S</td>\n",
       "    </tr>\n",
       "    <tr>\n",
       "      <th>3</th>\n",
       "      <td>4</td>\n",
       "      <td>1</td>\n",
       "      <td>1</td>\n",
       "      <td>Futrelle, Mrs. Jacques Heath (Lily May Peel)</td>\n",
       "      <td>female</td>\n",
       "      <td>35.0</td>\n",
       "      <td>1</td>\n",
       "      <td>0</td>\n",
       "      <td>113803</td>\n",
       "      <td>53.1000</td>\n",
       "      <td>C123</td>\n",
       "      <td>S</td>\n",
       "    </tr>\n",
       "    <tr>\n",
       "      <th>4</th>\n",
       "      <td>5</td>\n",
       "      <td>0</td>\n",
       "      <td>3</td>\n",
       "      <td>Allen, Mr. William Henry</td>\n",
       "      <td>male</td>\n",
       "      <td>35.0</td>\n",
       "      <td>0</td>\n",
       "      <td>0</td>\n",
       "      <td>373450</td>\n",
       "      <td>8.0500</td>\n",
       "      <td>NaN</td>\n",
       "      <td>S</td>\n",
       "    </tr>\n",
       "  </tbody>\n",
       "</table>\n",
       "</div>"
      ],
      "text/plain": [
       "   PassengerId  Survived  Pclass  \\\n",
       "0            1         0       3   \n",
       "1            2         1       1   \n",
       "2            3         1       3   \n",
       "3            4         1       1   \n",
       "4            5         0       3   \n",
       "\n",
       "                                                Name     Sex   Age  SibSp  \\\n",
       "0                            Braund, Mr. Owen Harris    male  22.0      1   \n",
       "1  Cumings, Mrs. John Bradley (Florence Briggs Th...  female  38.0      1   \n",
       "2                             Heikkinen, Miss. Laina  female  26.0      0   \n",
       "3       Futrelle, Mrs. Jacques Heath (Lily May Peel)  female  35.0      1   \n",
       "4                           Allen, Mr. William Henry    male  35.0      0   \n",
       "\n",
       "   Parch            Ticket     Fare Cabin Embarked  \n",
       "0      0         A/5 21171   7.2500   NaN        S  \n",
       "1      0          PC 17599  71.2833   C85        C  \n",
       "2      0  STON/O2. 3101282   7.9250   NaN        S  \n",
       "3      0            113803  53.1000  C123        S  \n",
       "4      0            373450   8.0500   NaN        S  "
      ]
     },
     "execution_count": 2,
     "metadata": {},
     "output_type": "execute_result"
    }
   ],
   "source": [
    "train.head()"
   ]
  },
  {
   "cell_type": "markdown",
   "metadata": {},
   "source": [
    "So reviewing our variables we will again compare survival with Fare. Let's get a visual on the summary statistics, best done in this situation with something like the boxplot."
   ]
  },
  {
   "cell_type": "code",
   "execution_count": 3,
   "metadata": {},
   "outputs": [
    {
     "data": {
      "image/png": "[encoded data removed]",
      "text/plain": [
       "<Figure size 432x288 with 1 Axes>"
      ]
     },
     "metadata": {
      "needs_background": "light"
     },
     "output_type": "display_data"
    }
   ],
   "source": [
    "#extract data types so we can select numerical ones\n",
    "train.boxplot(by ='Survived', column =['Fare'], grid = False) \n",
    "plt.ylabel('Fare')\n",
    "plt.title('')\n",
    "#sns.swarmplot(x='Survived', y='Fare' ,data=train)\n",
    "survived = train[train['Survived'] == 1]"
   ]
  },
  {
   "cell_type": "markdown",
   "metadata": {},
   "source": [
    "Looks like a fair difference on the mean and median betweent he two groups, however we do see some similarities and maybe some heavy inluence form outliers. We can take a quick look at the numbers for each group too."
   ]
  },
  {
   "cell_type": "code",
   "execution_count": 4,
   "metadata": {},
   "outputs": [
    {
     "name": "stdout",
     "output_type": "stream",
     "text": [
      "Survived count    342.000000\n",
      "mean      48.395408\n",
      "std       66.596998\n",
      "min        0.000000\n",
      "25%       12.475000\n",
      "50%       26.000000\n",
      "75%       57.000000\n",
      "max      512.329200\n",
      "Name: Fare, dtype: float64\n",
      "\n",
      "Not Survived \n",
      "count    549.000000\n",
      "mean      22.117887\n",
      "std       31.388207\n",
      "min        0.000000\n",
      "25%        7.854200\n",
      "50%       10.500000\n",
      "75%       26.000000\n",
      "max      263.000000\n",
      "Name: Fare, dtype: float64\n"
     ]
    }
   ],
   "source": [
    "survived = train[train['Survived'] == 1]\n",
    "not_survived = train[train['Survived'] == 0]\n",
    "print('Survived {}\\n'.format(survived['Fare'].describe()))\n",
    "print('Not Survived \\n{}'.format(not_survived['Fare'].describe()))"
   ]
  },
  {
   "cell_type": "markdown",
   "metadata": {},
   "source": [
    "As we saw on the boxplot, some clear differences in the mean/median, but also the 'max' value difference says somthing about maybe some influence via these extreme outliers. For example, the absolute ultra rich will likely have easily had access to boats, as opposed to say, ppl who are just a normal level of upper-class.\n",
    "\n",
    "Let's also get a look at this data as a distribution."
   ]
  },
  {
   "cell_type": "code",
   "execution_count": 5,
   "metadata": {},
   "outputs": [
    {
     "data": {
      "image/png": "[encoded data removed]",
      "text/plain": [
       "<Figure size 576x432 with 1 Axes>"
      ]
     },
     "metadata": {
      "needs_background": "light"
     },
     "output_type": "display_data"
    }
   ],
   "source": [
    "bins = 100\n",
    "fig, ax = plt.subplots(figsize=(8, 6))\n",
    "sns.distplot(train['Fare'], bins=bins, kde=False, label='surv', ax=ax)\n",
    "\n",
    "plt.legend(prop={'size': 12})\n",
    "#plt.title('All passengers ages vs survived passengers')\n",
    "plt.xlabel('Fare')\n",
    "plt.ylabel('Density')\n",
    "plt.show()"
   ]
  },
  {
   "cell_type": "code",
   "execution_count": 6,
   "metadata": {},
   "outputs": [
    {
     "data": {
      "image/png": "[encoded data removed]",
      "text/plain": [
       "<Figure size 864x432 with 1 Axes>"
      ]
     },
     "metadata": {
      "needs_background": "light"
     },
     "output_type": "display_data"
    }
   ],
   "source": [
    "\n",
    "bins = 100\n",
    "fig, ax = plt.subplots(figsize=(12, 6))\n",
    "sns.distplot(survived['Fare'], bins=bins, kde=False, label='surv', ax=ax)\n",
    "sns.distplot(not_survived['Fare'], bins=bins, kde=False,label='not surv', ax=ax)\n",
    "\n",
    "plt.legend(prop={'size': 12})\n",
    "#plt.title('All passengers ages vs survived passengers')\n",
    "plt.xlabel('Fare')\n",
    "plt.ylabel('Density')\n",
    "plt.show()"
   ]
  },
  {
   "cell_type": "code",
   "execution_count": 7,
   "metadata": {},
   "outputs": [
    {
     "data": {
      "image/png": "[encoded data removed]",
      "text/plain": [
       "<Figure size 432x288 with 1 Axes>"
      ]
     },
     "metadata": {
      "needs_background": "light"
     },
     "output_type": "display_data"
    }
   ],
   "source": [
    "\n",
    "x_surv, y_surv = s_tools.ecdf(survived['Fare'])\n",
    "x_no_surv, y_no_surv = s_tools.ecdf(not_survived['Fare'])\n",
    "plt.plot(x_surv, y_surv, marker='.', linestyle='none')\n",
    "plt.plot(x_no_surv, y_no_surv, marker='.', linestyle='none')\n",
    "plt.xlabel('Fare')\n",
    "plt.ylabel('ECDF')\n",
    "\n",
    "plt.show()"
   ]
  },
  {
   "cell_type": "markdown",
   "metadata": {},
   "source": [
    "We can clearly see from both our probability distributions and cumulitive distributions that they are far from normal, this makes sense given ticket Fares don't necessarily center around some mean. As expected and as the distributinos show, Ticket Fares are more dense around the cheaper end, that is there is much more economy cabins and cheap rooms than there are rich middle-class or high clas ones.\n",
    "\n",
    "So the data is not normally distributed, therefore some parametric (normal-distribution assumption) tests will be off limits for us. There are non-parametric tests that I could use, such as the sign-test that might be appropriate. "
   ]
  },
  {
   "cell_type": "markdown",
   "metadata": {},
   "source": [
    "Importantly though, I would also say that the **assumption of independent samples is broken** also. That is, having a ship full of rich ppl may affect the survival of poor people, because they will take the survival boats that could have been used by the poor. Or maybe the working class were more industrious? And just took the boats for their own suvival. So in this case we can't really use these test types.\n",
    "\n",
    "Instead our sampling simulations we have used previously might be better suited, but let's do the sign-test anyway for some fun!\n",
    "https://www.statisticshowto.com/sign-test/\n",
    "\n",
    "*Note: My understanding of this test, is that it pretty much converts a numerical value like our Fare into a success or failure, as to enable the use of the binomial test - so pretty much what we've been using anyway!\n",
    "\n"
   ]
  },
  {
   "cell_type": "code",
   "execution_count": 8,
   "metadata": {},
   "outputs": [],
   "source": [
    "#sign test\n",
    "#we will have to only compare equal amoutns so throw away some values from the larger group\n",
    "end_range = np.min([len(survived), len(not_survived)])\n"
   ]
  },
  {
   "cell_type": "code",
   "execution_count": 9,
   "metadata": {},
   "outputs": [
    {
     "name": "stdout",
     "output_type": "stream",
     "text": [
      "P-value = 0.00000000001142703548\n"
     ]
    }
   ],
   "source": [
    "\n",
    "fair_diff = survived['Fare'].iloc[0:end_range].values - not_survived['Fare'].iloc[0:end_range].values\n",
    "pos = [fair_diff > 0]\n",
    "neg = [fair_diff < 0]\n",
    "n = np.sum(pos) + np.sum(neg)\n",
    "successes =np.sum(pos)\n",
    "#print(n)\n",
    "prob_of_res = binom_test(successes, n, 0.5)\n",
    "print('P-value = {:.20f}'.format(prob_of_res))\n"
   ]
  },
  {
   "cell_type": "code",
   "execution_count": 10,
   "metadata": {},
   "outputs": [
    {
     "name": "stdout",
     "output_type": "stream",
     "text": [
      "P-value (Extreme outlier removed) = 0.00000002567651248594\n"
     ]
    }
   ],
   "source": [
    "\n",
    "survived_rm_outlier = survived[survived['Fare'] != np.max(survived['Fare'])]\n",
    "end_range = np.min([len(survived_rm_outlier), len(not_survived)])\n",
    "fair_diff = survived_rm_outlier['Fare'].iloc[0:end_range].values - not_survived['Fare'].iloc[0:end_range].values\n",
    "pos = [fair_diff > 0]\n",
    "neg = [fair_diff < 0]\n",
    "n = np.sum(pos) + np.sum(neg)\n",
    "successes =np.sum(pos)\n",
    "#print(n)\n",
    "prob_of_res = binom_test(successes, n, 0.5)\n",
    "print('P-value (Extreme outlier removed) = {:.20f}'.format(prob_of_res))\n"
   ]
  },
  {
   "cell_type": "markdown",
   "metadata": {},
   "source": [
    "A very significant value, that is, a very low probability that higher survival rate we saw in the higher priced fares was due to chance, so was instead potentially due to a trait within this population of higher fare paying groups (Most likely being richer and a higher class!). \n",
    "\n",
    "I have also performed the same test with the very expensive outlier Fare removed. And we still a very low p-value.\n",
    "\n",
    "**But we will take this value with a grain of salt because our assumptions on independence were pretty flimsy!**"
   ]
  },
  {
   "cell_type": "markdown",
   "metadata": {},
   "source": [
    "##### Chi-squared on PClass \n",
    "\n",
    "We could say that class may encompass the advantage of the rich better than our Fare variable, we we will have a look at the signficane of this value on survival rates. This is a categorical variable, thus the Chi-squared test is ideal for testing its significance.\n",
    "\n",
    "Let's calculate the probability of survival for each class...\n"
   ]
  },
  {
   "cell_type": "code",
   "execution_count": 15,
   "metadata": {},
   "outputs": [
    {
     "name": "stdout",
     "output_type": "stream",
     "text": [
      "Survival probability\n",
      "1: 0.6296296296296297\n",
      "2: 0.47282608695652173\n",
      "3: 0.24236252545824846\n"
     ]
    },
    {
     "data": {
      "image/png": "[encoded data removed]",
      "text/plain": [
       "<Figure size 432x288 with 1 Axes>"
      ]
     },
     "metadata": {},
     "output_type": "display_data"
    }
   ],
   "source": [
    "#https://seaborn.pydata.org/examples/grouped_barplot.html\n",
    "sns.set(style=\"whitegrid\")\n",
    "\n",
    "survived = train[train['Survived'] == 1]\n",
    "\n",
    "ones = train[train['Pclass'] == 1]\n",
    "ones_surv = sum(ones['Survived'] == 1)\n",
    "\n",
    "twos = train[train['Pclass'] == 2]\n",
    "twos_surv = sum(twos['Survived'] == 1)\n",
    "\n",
    "threes = train[train['Pclass'] == 3]\n",
    "threes_surv = sum(threes['Survived'] == 1)\n",
    "\n",
    "ones_prob = ones_surv/len(ones)\n",
    "twos_prob = twos_surv/len(twos)\n",
    "threes_prob = threes_surv/len(threes)\n",
    "\n",
    "\n",
    "\n",
    "print('Survival probability\\n1: {}\\n2: {}\\n3: {}'.format(ones_prob, twos_prob, threes_prob))\n",
    "#print()\n",
    "\n",
    "\n",
    "df = pd.DataFrame({'Pclass':['1', '2', '3'], 'val':[ones_prob, twos_prob, threes_prob], 'count':[len(ones), len(twos), len(threes)]})\n",
    "sns.barplot(x = 'Pclass', y = 'val', data = df);\n",
    "plt.title('Survival probability by Class');\n",
    "plt.xlabel('Class number');\n",
    "plt.ylabel('P');"
   ]
  },
  {
   "cell_type": "markdown",
   "metadata": {},
   "source": [
    "Above is as we had hypothesised, that higher class individuals had an advantage. "
   ]
  },
  {
   "cell_type": "code",
   "execution_count": 25,
   "metadata": {},
   "outputs": [],
   "source": [
    "s = pd.DataFrame({'survived': [sum(ones['Survived'] == 1),\n",
    "                                sum(twos['Survived'] == 1),\n",
    "                                   sum(threes['Survived'] == 1)],\n",
    "                  'not survived': [sum(ones['Survived'] == 0),\n",
    "                                sum(twos['Survived'] == 0),\n",
    "                                   sum(threes['Survived'] == 0)]})\n",
    "\n",
    "s = s.transpose()\n"
   ]
  },
  {
   "cell_type": "code",
   "execution_count": 28,
   "metadata": {},
   "outputs": [
    {
     "name": "stdout",
     "output_type": "stream",
     "text": [
      "===Chi2 Stat===\n",
      "102.88898875696057\n",
      "\n",
      "\n",
      "===Degrees of Freedom===\n",
      "2\n",
      "\n",
      "\n",
      "===P-Value===\n",
      "4.5492517112987287e-23\n",
      "\n",
      "\n",
      "===Contingency Table (Expected values)===\n",
      "[[ 82.90909091  70.62626263 188.46464646]\n",
      " [133.09090909 113.37373737 302.53535354]]\n",
      "\n",
      "\n",
      "Observed values\n",
      "                0   1    2\n",
      "survived      136  87  119\n",
      "not survived   80  97  372\n"
     ]
    }
   ],
   "source": [
    "#https://towardsdatascience.com/running-chi-square-tests-in-python-with-die-roll-data-b9903817c51b\n",
    "#chi-square independence test\n",
    "chi2_stat, p_val, dof, ex = stats.chi2_contingency(s)\n",
    "print(\"===Chi2 Stat===\")\n",
    "print(chi2_stat)\n",
    "print(\"\\n\")\n",
    "print(\"===Degrees of Freedom===\")\n",
    "print(dof)\n",
    "print(\"\\n\")\n",
    "print(\"===P-Value===\")\n",
    "print(p_val)\n",
    "print(\"\\n\")\n",
    "print(\"===Contingency Table (Expected values)===\")\n",
    "print(ex)\n",
    "print(\"\\n\")\n",
    "print(\"Observed values\")\n",
    "print(s)"
   ]
  },
  {
   "cell_type": "markdown",
   "metadata": {},
   "source": [
    "The contingency table shows us what survival rates we should have expected, given an equal survival likelihood and given the respective numbers of people in each class. \n",
    "\n",
    "We can compare them against the actual observed values below this, there are some clear differences and our very small p-value indicates that there is a significant difference for survival rate between the class category.\n",
    "\n"
   ]
  },
  {
   "cell_type": "code",
   "execution_count": 30,
   "metadata": {},
   "outputs": [
    {
     "data": {
      "text/plain": [
       "Power_divergenceResult(statistic=array([55.958386  ,  5.84551093, 53.52038764]), pvalue=array([7.40213242e-14, 1.56168389e-02, 2.55923087e-13]))"
      ]
     },
     "execution_count": 30,
     "metadata": {},
     "output_type": "execute_result"
    }
   ],
   "source": [
    "exp = ex\n",
    "exp\n",
    "obs = np.array(s)\n",
    "obs\n",
    "\n",
    "#Chi-square goodness of fit\n",
    "chisquare(exp, f_exp=obs)\n",
    "\n",
    "#scipy.stats.chisquare()"
   ]
  },
  {
   "cell_type": "markdown",
   "metadata": {},
   "source": [
    "Now (above) we run a goodness of fit test on the observed and expected values, we recieved significant p-values that state these observed results are different to our expected results (given a null hypothesis of no difference within category for survival rate).\n",
    "\n",
    "Therefore we are very confident that the class level has an effect on survival probability for passengers."
   ]
  }
 ],
 "metadata": {
  "kernelspec": {
   "display_name": "Python 3",
   "language": "python",
   "name": "python3"
  },
  "language_info": {
   "codemirror_mode": {
    "name": "ipython",
    "version": 3
   },
   "file_extension": ".py",
   "mimetype": "text/x-python",
   "name": "python",
   "nbconvert_exporter": "python",
   "pygments_lexer": "ipython3",
   "version": "3.7.4"
  }
 },
 "nbformat": 4,
 "nbformat_minor": 4
}
