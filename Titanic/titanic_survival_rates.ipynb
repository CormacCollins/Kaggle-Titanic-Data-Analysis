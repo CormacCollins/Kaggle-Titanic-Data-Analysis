{
 "cells": [
  {
   "cell_type": "code",
   "execution_count": 157,
   "metadata": {},
   "outputs": [
    {
     "data": {
      "text/html": [
       "<script>\n",
       "code_show=true; \n",
       "function code_toggle() {\n",
       " if (code_show){\n",
       " $('div.input').hide();\n",
       " } else {\n",
       " $('div.input').show();\n",
       " }\n",
       " code_show = !code_show\n",
       "} \n",
       "$( document ).ready(code_toggle);\n",
       "</script>\n",
       "<form action=\"javascript:code_toggle()\"><input type=\"submit\" value=\"Click here to toggle on/off the raw code.\"></form>"
      ],
      "text/plain": [
       "<IPython.core.display.HTML object>"
      ]
     },
     "execution_count": 157,
     "metadata": {},
     "output_type": "execute_result"
    }
   ],
   "source": [
    "#https://stackoverflow.com/questions/27934885/how-to-hide-code-from-cells-in-ipython-notebook-visualized-with-nbviewer\n",
    "#cool code for a button to hide code \n",
    "from IPython.display import HTML\n",
    "\n",
    "HTML('''<script>\n",
    "code_show=true; \n",
    "function code_toggle() {\n",
    " if (code_show){\n",
    " $('div.input').hide();\n",
    " } else {\n",
    " $('div.input').show();\n",
    " }\n",
    " code_show = !code_show\n",
    "} \n",
    "$( document ).ready(code_toggle);\n",
    "</script>\n",
    "<form action=\"javascript:code_toggle()\"><input type=\"submit\" value=\"Click here to toggle on/off the raw code.\"></form>''')"
   ]
  },
  {
   "cell_type": "code",
   "execution_count": 204,
   "metadata": {},
   "outputs": [],
   "source": [
    "import pandas as pd\n",
    "import seaborn as sns\n",
    "import matplotlib.pyplot as plt\n",
    "import numpy as np\n",
    "import tabulate\n",
    "import statistical_tools as s_tools\n",
    "#plotting with seaborn\n",
    "#https://cmdlinetips.com/2019/02/how-to-make-histogram-in-python-with-pandas-and-seaborn/\n",
    "\n",
    "train = pd.read_csv(\"train.csv\")"
   ]
  },
  {
   "cell_type": "markdown",
   "metadata": {},
   "source": [
    "*So I'm looking to practice my data exploration skills but also formulating clean hypothesis that can be tested. I'm doing this while working through statistical-thinking on DataCamp. I want to play around with these techniques when I see them to get a feel for them. That means it might be a bit of overkill!*\n",
    "\n",
    "\n",
    "##### Titanic data exploration\n",
    "\n",
    "\n",
    "So when I grabbed this Titanic data, before even looking into the data, I had a thought (My knowledge influenced solely by the Movie!), that the woman and children were supposedly prioritized when the ship was sinking. So first of all let's check that, but secondly, in practicing out statistical prowess, can we prove this to be statistically significant?\n",
    "\n",
    "I will test this for Children and Women seperately.\n",
    "\n",
    "So our analysis will include:\n",
    "\n",
    "<ul>\n",
    "    <ol>\n",
    "        <li>Age <b>Exploration</b></li>\n",
    "        <li><b>Summary</b>/Visuals on the data</li>\n",
    "        <li>Statistical test: <b>Permutations sampling</b></li>  \n",
    "        <li>Statistical test: <b>Binomial test</b></li>  \n",
    "    </ol>\n",
    "    \n",
    "</ul>\n",
    "\n",
    "\n",
    "###### Children\n",
    "\n",
    "So to put this in research terms I will say: <br />\n",
    "My alternate hypothesis $\\mu_a$ = Children had greater survival rates than the overall survival rates of passengers on board<br />\n",
    "My Null hypothesis $\\mu_0$ = Children had the same survival rates as the overall survival rates of passengers on board\n",
    "\n",
    "Let's look quickly at the dataframe loaded from the 'test.csv' data"
   ]
  },
  {
   "cell_type": "code",
   "execution_count": 236,
   "metadata": {},
   "outputs": [],
   "source": [
    "avg_surv_rate_all = len(train[train['Survived'] == 1])/len(train)"
   ]
  },
  {
   "cell_type": "code",
   "execution_count": 229,
   "metadata": {},
   "outputs": [
    {
     "data": {
      "text/html": [
       "<div>\n",
       "<style scoped>\n",
       "    .dataframe tbody tr th:only-of-type {\n",
       "        vertical-align: middle;\n",
       "    }\n",
       "\n",
       "    .dataframe tbody tr th {\n",
       "        vertical-align: top;\n",
       "    }\n",
       "\n",
       "    .dataframe thead th {\n",
       "        text-align: right;\n",
       "    }\n",
       "</style>\n",
       "<table border=\"1\" class=\"dataframe\">\n",
       "  <thead>\n",
       "    <tr style=\"text-align: right;\">\n",
       "      <th></th>\n",
       "      <th>PassengerId</th>\n",
       "      <th>Survived</th>\n",
       "      <th>Pclass</th>\n",
       "      <th>Name</th>\n",
       "      <th>Sex</th>\n",
       "      <th>Age</th>\n",
       "      <th>SibSp</th>\n",
       "      <th>Parch</th>\n",
       "      <th>Ticket</th>\n",
       "      <th>Fare</th>\n",
       "      <th>Cabin</th>\n",
       "      <th>Embarked</th>\n",
       "    </tr>\n",
       "  </thead>\n",
       "  <tbody>\n",
       "    <tr>\n",
       "      <th>0</th>\n",
       "      <td>1</td>\n",
       "      <td>0</td>\n",
       "      <td>3</td>\n",
       "      <td>Braund, Mr. Owen Harris</td>\n",
       "      <td>male</td>\n",
       "      <td>22.0</td>\n",
       "      <td>1</td>\n",
       "      <td>0</td>\n",
       "      <td>A/5 21171</td>\n",
       "      <td>7.2500</td>\n",
       "      <td>NaN</td>\n",
       "      <td>S</td>\n",
       "    </tr>\n",
       "    <tr>\n",
       "      <th>1</th>\n",
       "      <td>2</td>\n",
       "      <td>1</td>\n",
       "      <td>1</td>\n",
       "      <td>Cumings, Mrs. John Bradley (Florence Briggs Th...</td>\n",
       "      <td>female</td>\n",
       "      <td>38.0</td>\n",
       "      <td>1</td>\n",
       "      <td>0</td>\n",
       "      <td>PC 17599</td>\n",
       "      <td>71.2833</td>\n",
       "      <td>C85</td>\n",
       "      <td>C</td>\n",
       "    </tr>\n",
       "    <tr>\n",
       "      <th>2</th>\n",
       "      <td>3</td>\n",
       "      <td>1</td>\n",
       "      <td>3</td>\n",
       "      <td>Heikkinen, Miss. Laina</td>\n",
       "      <td>female</td>\n",
       "      <td>26.0</td>\n",
       "      <td>0</td>\n",
       "      <td>0</td>\n",
       "      <td>STON/O2. 3101282</td>\n",
       "      <td>7.9250</td>\n",
       "      <td>NaN</td>\n",
       "      <td>S</td>\n",
       "    </tr>\n",
       "    <tr>\n",
       "      <th>3</th>\n",
       "      <td>4</td>\n",
       "      <td>1</td>\n",
       "      <td>1</td>\n",
       "      <td>Futrelle, Mrs. Jacques Heath (Lily May Peel)</td>\n",
       "      <td>female</td>\n",
       "      <td>35.0</td>\n",
       "      <td>1</td>\n",
       "      <td>0</td>\n",
       "      <td>113803</td>\n",
       "      <td>53.1000</td>\n",
       "      <td>C123</td>\n",
       "      <td>S</td>\n",
       "    </tr>\n",
       "    <tr>\n",
       "      <th>4</th>\n",
       "      <td>5</td>\n",
       "      <td>0</td>\n",
       "      <td>3</td>\n",
       "      <td>Allen, Mr. William Henry</td>\n",
       "      <td>male</td>\n",
       "      <td>35.0</td>\n",
       "      <td>0</td>\n",
       "      <td>0</td>\n",
       "      <td>373450</td>\n",
       "      <td>8.0500</td>\n",
       "      <td>NaN</td>\n",
       "      <td>S</td>\n",
       "    </tr>\n",
       "  </tbody>\n",
       "</table>\n",
       "</div>"
      ],
      "text/plain": [
       "   PassengerId  Survived  Pclass  \\\n",
       "0            1         0       3   \n",
       "1            2         1       1   \n",
       "2            3         1       3   \n",
       "3            4         1       1   \n",
       "4            5         0       3   \n",
       "\n",
       "                                                Name     Sex   Age  SibSp  \\\n",
       "0                            Braund, Mr. Owen Harris    male  22.0      1   \n",
       "1  Cumings, Mrs. John Bradley (Florence Briggs Th...  female  38.0      1   \n",
       "2                             Heikkinen, Miss. Laina  female  26.0      0   \n",
       "3       Futrelle, Mrs. Jacques Heath (Lily May Peel)  female  35.0      1   \n",
       "4                           Allen, Mr. William Henry    male  35.0      0   \n",
       "\n",
       "   Parch            Ticket     Fare Cabin Embarked  \n",
       "0      0         A/5 21171   7.2500   NaN        S  \n",
       "1      0          PC 17599  71.2833   C85        C  \n",
       "2      0  STON/O2. 3101282   7.9250   NaN        S  \n",
       "3      0            113803  53.1000  C123        S  \n",
       "4      0            373450   8.0500   NaN        S  "
      ]
     },
     "execution_count": 229,
     "metadata": {},
     "output_type": "execute_result"
    }
   ],
   "source": [
    "train.head()"
   ]
  },
  {
   "cell_type": "markdown",
   "metadata": {},
   "source": [
    "We have a 1 or 0 for 'survived' and 'didn't survive' respectively, and the age in another column. \n",
    "So we want maybe good a good look at the distributions of those that did and didn't survive, just as a nice visual."
   ]
  },
  {
   "cell_type": "code",
   "execution_count": 230,
   "metadata": {},
   "outputs": [
    {
     "data": {
      "text/plain": [
       "count    714.000000\n",
       "mean      29.699118\n",
       "std       14.526497\n",
       "min        0.420000\n",
       "25%       20.125000\n",
       "50%       28.000000\n",
       "75%       38.000000\n",
       "max       80.000000\n",
       "Name: Age, dtype: float64"
      ]
     },
     "execution_count": 230,
     "metadata": {},
     "output_type": "execute_result"
    }
   ],
   "source": [
    "train['Age'].describe()"
   ]
  },
  {
   "cell_type": "markdown",
   "metadata": {},
   "source": [
    "Now we just need to drop all the rows missing age values"
   ]
  },
  {
   "cell_type": "code",
   "execution_count": 231,
   "metadata": {},
   "outputs": [],
   "source": [
    "train = train[train['Age'].notna()]"
   ]
  },
  {
   "cell_type": "code",
   "execution_count": 232,
   "metadata": {},
   "outputs": [
    {
     "data": {
      "text/plain": [
       "count    714.000000\n",
       "mean      29.699118\n",
       "std       14.526497\n",
       "min        0.420000\n",
       "25%       20.125000\n",
       "50%       28.000000\n",
       "75%       38.000000\n",
       "max       80.000000\n",
       "Name: Age, dtype: float64"
      ]
     },
     "execution_count": 232,
     "metadata": {},
     "output_type": "execute_result"
    }
   ],
   "source": [
    "train['Age'].describe()"
   ]
  },
  {
   "cell_type": "markdown",
   "metadata": {},
   "source": [
    "Unfortunately we loose a lot of values from this, so some of our comparisons might be a big weaker"
   ]
  },
  {
   "cell_type": "code",
   "execution_count": 217,
   "metadata": {},
   "outputs": [],
   "source": [
    "survived = train[train['Survived'] == 1]\n"
   ]
  },
  {
   "cell_type": "code",
   "execution_count": 218,
   "metadata": {},
   "outputs": [
    {
     "data": {
      "text/plain": [
       "Text(0, 0.5, 'Density')"
      ]
     },
     "execution_count": 218,
     "metadata": {},
     "output_type": "execute_result"
    },
    {
     "data": {
      "image/png": "[encoded data removed]",
      "text/plain": [
       "<Figure size 432x288 with 1 Axes>"
      ]
     },
     "metadata": {
      "needs_background": "light"
     },
     "output_type": "display_data"
    }
   ],
   "source": [
    "#set bin range on how many age groups there are:\n",
    "max_age = max(train['Age'])\n",
    "bin_count = np.linspace(0, max_age, (int(max_age/10)+1))\n",
    "\n",
    "sns.distplot(train['Age'], bins=bin_count, kde=False, label='all ages')\n",
    "sns.distplot(survived['Age'], bins=bin_count,  kde=False,label='Survived age')\n",
    "\n",
    "plt.legend(prop={'size': 12})\n",
    "plt.title('All passengers ages vs survived passengers')\n",
    "plt.xlabel('Age groups')\n",
    "plt.ylabel('Density')"
   ]
  },
  {
   "cell_type": "markdown",
   "metadata": {},
   "source": [
    "You can see here with this overlay of the surviving and non-surviving groups by age that there is a bigger gap between the middle ages compared to the children/teens. This is heavily infavour of our hypothesis, but we can get a more detailed look than this. By seeing the rates (proportions saved) for each age bracket."
   ]
  },
  {
   "cell_type": "code",
   "execution_count": 219,
   "metadata": {},
   "outputs": [
    {
     "name": "stdout",
     "output_type": "stream",
     "text": [
      "   Age group  Survival rate  Group count\n",
      "0      0 - 5       0.675000           40\n",
      "1     5 - 10       0.500000           22\n",
      "2    10 - 15       0.437500           16\n",
      "3    15 - 20       0.395349           86\n",
      "4    20 - 25       0.342105          114\n",
      "5    25 - 30       0.358491          106\n",
      "6    30 - 35       0.421053           95\n",
      "7    35 - 40       0.458333           72\n",
      "8    40 - 45       0.375000           48\n",
      "9    45 - 50       0.390244           41\n",
      "10   50 - 55       0.437500           32\n",
      "11   55 - 60       0.375000           16\n",
      "12   60 - 65       0.400000           15\n",
      "13   65 - 70       0.000000            4\n",
      "14   70 - 75       0.000000            6\n",
      "15   75 - 80       0.000000            0\n",
      "16   80 - 85       1.000000            1\n"
     ]
    },
    {
     "data": {
      "image/png": "[encoded data removed]",
      "text/plain": [
       "<Figure size 504x360 with 1 Axes>"
      ]
     },
     "metadata": {
      "needs_background": "light"
     },
     "output_type": "display_data"
    }
   ],
   "source": [
    "def age_group_plot_and_table(s, t):  \n",
    "    perc_survived = np.empty(18)\n",
    "    age_dict = {}\n",
    "    totals_dict = {}\n",
    "    #print(perc_survived)\n",
    "    for i in np.linspace(0, 80, 17):\n",
    "        #print(i)\n",
    "        srv = s[(s['Age'] >= i) & (s['Age'] < (i + 5))]\n",
    "        srv = srv['Age']\n",
    "        total = t[(t['Age'] >= i) & (t['Age'] < i+5)]\n",
    "        total = total['Age']\n",
    "\n",
    "        if len(total.values) != 0:\n",
    "            age_dict[i]  =  float(len(srv.values)/len(total.values))\n",
    "            totals_dict[i] = len(total.values)\n",
    "        else:\n",
    "            age_dict[i]  =  float(0)\n",
    "            totals_dict[i] = 0\n",
    "    \n",
    "    vals  = ['{} - {}'.format(int(i), int(i+5)) for i in list(age_dict.keys())]\n",
    "    fig, ax = plt.subplots(figsize=(7, 5))\n",
    "    df = pd.DataFrame({'Age group': vals, 'Survival rate': list(age_dict.values()), 'Group count':  list(totals_dict.values())})\n",
    "    \n",
    "    #sns.distplot(df['Age group'], bins=bin_count, label='survival rate')\n",
    "    sns.barplot(x = 'Age group', y = 'Survival rate', data = df, ax=ax)\n",
    "    plt.xticks(rotation=90)\n",
    "    plt.tight_layout()\n",
    "    return df \n",
    "    \n",
    "    \n",
    "df_group_data = age_group_plot_and_table(survived, train)\n",
    "print(df_group_data.to_string())\n"
   ]
  },
  {
   "cell_type": "code",
   "execution_count": 220,
   "metadata": {},
   "outputs": [
    {
     "data": {
      "text/plain": [
       "<matplotlib.axes._subplots.AxesSubplot at 0x249c36910c8>"
      ]
     },
     "execution_count": 220,
     "metadata": {},
     "output_type": "execute_result"
    },
    {
     "data": {
      "image/png": "[encoded data removed]",
      "text/plain": [
       "<Figure size 432x288 with 1 Axes>"
      ]
     },
     "metadata": {
      "needs_background": "light"
     },
     "output_type": "display_data"
    }
   ],
   "source": [
    "df = df_group_data[df_group_data['Age group'] != '80 - 85']\n",
    "df.plot(x='Age group', y='Survival rate')\n"
   ]
  },
  {
   "cell_type": "markdown",
   "metadata": {},
   "source": [
    "Here I've plotted the survival rates by age group, and also the table of these rates - this helps us interpet some extreme results such as the 100% survival rate of the >80 year olds, but we can see that there was only 1 of them, so not a great  sample size for that sub group!\n",
    "\n",
    "I've also plotted this rate with the 80 year old outlier removed to see a nice trend line. Our main issue for this data analysis will be the small number of young people compared to older.\n",
    "\n",
    "But through the younger range we can a definite trending towards more survival roughly through the 0-15 years old range.\n",
    "\n",
    "Now our null hypothesis was that all the rates were actually the same.\n",
    "\n",
    "So we need to ask the questions:\n",
    "<ul>\n",
    "<li>How can we measure this objectively - and not just eyeball this graph (In some other data analysis, the differences in the data might not be so clear cut)  </li>\n",
    "<li>Using this measure, we can ask, what is the chance these observed differences are down to pure chance and variability?</li>\n",
    "</ul>\n",
    "\n",
    "\n",
    "So first, what was the total overall survival rate?\n"
   ]
  },
  {
   "cell_type": "code",
   "execution_count": 221,
   "metadata": {},
   "outputs": [
    {
     "name": "stdout",
     "output_type": "stream",
     "text": [
      "Overall survival rate 40.61624649859944%\n"
     ]
    }
   ],
   "source": [
    "'Now let\\'s simulate a group with the same survival rate, but with the assumption that there were no differences between age group survivals'\n",
    "print('Overall survival rate {}%'.format(avg_surv_rate_all*100))\n"
   ]
  },
  {
   "cell_type": "markdown",
   "metadata": {},
   "source": [
    "\n",
    "So how we will test this, is we will take this data set and create 'Permutation Samples'. The picture below (Curtosy of DataCamps lessons on Statistical thinking) shows an example of this permutation, we take this sample of data, where the red and blue represent 2 different categories (such as young and old people) and these different data categories have some other shared data type (in this picture we can just say some numerical measure).\n",
    "\n",
    "![Permutation](permutation_example.jpg)\n",
    "\n",
    "You then jumble up all of these numbers and act as if it is a new sample of the same data population (see a jumbled version below - look at the first row and notice that they are all difference random numbers form the first picture)\n",
    "\n",
    "\n",
    "![Permutation](permutation_example_jumbled.jpg)\n",
    "\n",
    "We can then use this new sample to calculate the same statistics as we did on the original data set, such as the survival rates.\n",
    "\n",
    "So in our original empirical data we believe there are trends in the data that are not simply random (Children with a higher survival rate), but our jumbled data now represents a completely random scenario - in this case we would expect each age group to show a similar survival rate to the original mean of 38% \n",
    "\n",
    "In our comparison testing we will actually calculate for these permutations the <b>difference between young and 'the rest' i.e (young_survival_rate - all_older_ages_rate)</b>.\n",
    "<br />"
   ]
  },
  {
   "cell_type": "markdown",
   "metadata": {},
   "source": [
    "So next we create a large number of these jummbled data sets (Permutation Samples) and get the difference in survival rates betwen the young and older ages, this gives us a distribution of some of the variation that we might see if we sampled a bunch of identical ships with similar group ages and an assumed equal chance of survival between the ages.  \n",
    "\n",
    "So now we have arrived where we wanted for the ability to do a significance test between the original data and the data that would represent a world where there is no difference between survival rates betweent he age groups (Our random rates world).\n",
    "\n",
    "We have our test statistic - the difference in survival rate for the 'young' between 0 and 15 and the 'old' (the rest of the ages).\n",
    "\n",
    "And we have our data set representing an expected non-biased survival rate (Our distribution of survival rate differences form our permutations).\n",
    "\n",
    "We can plot thist distribution to get an idea of the range of expected differences. We can then calculate the probability that our original rates difference would land within this distribution. \n",
    "\n",
    "That is, the probability of our Alternate hypothesis <b>given</b> our null hypothesis. Or the probability of the survival rate difference that we have oberved, if we assumed that the age groups actually did have an equal chance of survival (as seen in our random world).\n",
    "\n",
    "This is written probabilistically as:\n",
    "P($\\mu_a$ | $\\mu_0$) = 'p-value'\n",
    "\n",
    "\n",
    "**A big assumption here is that the samples are independent, that is they aren't affecting each other's chance for survival (Which they likely are!). We have to make this assumption when performing any parametric test such as this. We will also need this assumption for our Binomial distribution example**\n"
   ]
  },
  {
   "cell_type": "code",
   "execution_count": 226,
   "metadata": {},
   "outputs": [],
   "source": [
    "survival_rate =  lambda x: sum(x)/len(x)\n",
    "#lambda function for rate\n",
    "def diff_rates(d1, d2):\n",
    "    #I refrained from getting absolute value just to show that the permutations replicates will be normally distributed\n",
    "    return (survival_rate(d2) - survival_rate(d1)) \n",
    "\n",
    "range_0_to_15 =  train[(train['Age'] >= 0) & (train['Age'] < (15))]\n",
    "range_gt_or_eq_15 = train[(train['Age'] >= 15)]\n",
    "\n",
    "# Take 10,000 bootstrap replicates of the rate: calculating boostrap replicates\n",
    "perm_replicates = s_tools.draw_perm_reps(range_0_to_15['Survived'], range_gt_or_eq_15['Survived'], diff_rates, size=10000)\n",
    "\n"
   ]
  },
  {
   "cell_type": "code",
   "execution_count": 225,
   "metadata": {},
   "outputs": [
    {
     "name": "stdout",
     "output_type": "stream",
     "text": [
      "Our original difference in survival rate 19.17029511369133% can be observed as the dark blue vertical line\n"
     ]
    },
    {
     "data": {
      "image/png": "[encoded data removed]",
      "text/plain": [
       "<Figure size 432x288 with 1 Axes>"
      ]
     },
     "metadata": {
      "needs_background": "light"
     },
     "output_type": "display_data"
    }
   ],
   "source": [
    "\n",
    "\n",
    "\n",
    "df = pd.DataFrame({'difference': perm_replicates})\n",
    "orig_rate =  survival_rate(range_0_to_15['Survived']) - survival_rate(range_gt_or_eq_15['Survived'])\n",
    "#norm_repl_data = np.true_divide(perm_replicates, len(perm_replicates))\n",
    "#sns.distplot(norm_repl_data*10000000)\n",
    "df.plot.hist(bins=18, alpha=0.5)\n",
    "plt.title('Distribution of permutation replicas (Difference in survival rate between \\'Young\\' and \\'old\\')')\n",
    "plt.axvline(orig_rate, 0,0.8)\n",
    "plt.xlabel('Difference')\n",
    "plt.ylabel('Distribution')\n",
    "print('Our original difference in survival rate {}% can be observed as the dark blue vertical line'.format(orig_rate*100))"
   ]
  },
  {
   "cell_type": "markdown",
   "metadata": {},
   "source": [
    "So above we can see this distribution of our samples, and of course in a world where everyone has an equal survival rate we would expect this to center around a mean of 0. And if we plotted our original survival rate diff (the observed data version) (0.1917), it is very far to the right of the distribution - in the extreme values. \n",
    "\n",
    "Our statistical test in terms of this graph asks the question, how much proportion of this distribution (in blue on the graph) would be equal to or above our test statistic (the original survival difference as the dark blue line). \n"
   ]
  },
  {
   "cell_type": "code",
   "execution_count": 227,
   "metadata": {},
   "outputs": [
    {
     "name": "stdout",
     "output_type": "stream",
     "text": [
      "Original rate difference 0.19170295113691332\n",
      "p-value = 0.0011\n"
     ]
    }
   ],
   "source": [
    "# Compute p-value: p\n",
    "print('Original rate difference {}'.format(orig_rate))\n",
    "p = np.sum(perm_replicates >= orig_rate) / len(perm_replicates)\n",
    "# Print the result\n",
    "print('p-value = {}'.format(p, '.5f'))"
   ]
  },
  {
   "cell_type": "markdown",
   "metadata": {},
   "source": [
    "Calculating that proportion gives us a p-value, and above we can see a low p-value, we didn't set any significance value, but we can see that it reaches under 0.05.\n",
    "\n",
    "So in normal language: This is the probability (0.001) of getting at least a young-old survival rate difference of '19.17%', assuming each age group had an equal chance of survival. \n",
    "\n",
    "So given that our probability of a 19.17% or higher diff is ~0.001, we can be confident that there is definetely a very rare chance of seeing this type of result for our rate of survival in this age group.\n"
   ]
  },
  {
   "cell_type": "code",
   "execution_count": 228,
   "metadata": {},
   "outputs": [
    {
     "name": "stdout",
     "output_type": "stream",
     "text": [
      "Total survival rate regardless of age: 0.4061624649859944\n"
     ]
    }
   ],
   "source": [
    "print('Total survival rate regardless of age: {}'.format(avg_surv_rate_all))"
   ]
  },
  {
   "cell_type": "markdown",
   "metadata": {},
   "source": [
    "Now there may be a simpler way to prove this significance, which we will also use on the females comparison, but first let's compare it with our previous method on the age difference.\n",
    "\n",
    "We will use a <b>Binomial test</b> to assess the probability of our observed successes (Surivors), given out null hypothesis that the survival rate for that age group is the same as the rest, (the average) 38.38%.\n",
    "\n",
    "Put simply the Binomial test (for success/failure measures) is run to see if observed test results differ from what was expected. https://www.statisticshowto.com/binomial-test/\n",
    "\n",
    "Therefore this is perfect to test the number of 'successes' (survivals) that we observed, given that our hypothesis was that everyone has an equal survival chance.\n",
    "\n",
    "We use the binomial test in the following way:\n",
    "\n",
    "<b>n</b>: total number of observations (In out case, total number of young persons<br/>\n",
    "<b>successes</b>: total number of survivals we observed<br/>\n",
    "<b>probability</b>: the probability that a young person would suvival (We have stated this as the rate 38.38% given our hypothesis) <br />\n",
    "\n",
    "probability_of_result = binom_test(successes, n, probability)\n",
    "\n",
    "<b>probability_of_result</b>: This represents the probability of observing that amount of successes given our n and probability.\n",
    "\n",
    "So after we calculate:"
   ]
  },
  {
   "cell_type": "code",
   "execution_count": 234,
   "metadata": {},
   "outputs": [],
   "source": [
    "from scipy.stats import binom, binom_test\n",
    "#get age range 0-15\n",
    "age_0_to_15 = train[(train['Age'] >= 0) & (train['Age'] < 15)]\n",
    "survived_count = len(age_0_to_15[age_0_to_15['Survived'] == 1])\n",
    "n = len(age_0_to_15)\n",
    "expected_rate_survival = avg_surv_rate_all #the average survival for the whole group"
   ]
  },
  {
   "cell_type": "code",
   "execution_count": 238,
   "metadata": {},
   "outputs": [
    {
     "name": "stdout",
     "output_type": "stream",
     "text": [
      "Probability of observing survival rate 0.5769230769230769 in 'young', given that we expect an unbiased rate 0.4061624649859944 of survival:\n",
      "P: 0.0025830038\n"
     ]
    }
   ],
   "source": [
    "successes = survived_count # our question is what is the likelyhood of this number of successes\n",
    "#so we test that what is the probability of this amount of survival (survival rate woman), given this many trials (number survived) and given the expected probability of survival\n",
    "prob_of_res = binom_test(successes, n, expected_rate_survival)\n",
    "print('Probability of observing survival rate {} in \\'young\\', given that we expect an unbiased rate {} of survival:\\nP: {:.10f}'.format(survived_count/n, avg_surv_rate_all, prob_of_res))"
   ]
  },
  {
   "cell_type": "markdown",
   "metadata": {},
   "source": [
    "This p-value seems a lot more extreme in saying that this was a rare event, so there is a fair amount of difference in these methods.<br />\n",
    "Let's plot the distribution and the expected value to get a visual of how our expected value appears..."
   ]
  },
  {
   "cell_type": "code",
   "execution_count": 239,
   "metadata": {},
   "outputs": [
    {
     "data": {
      "text/plain": [
       "Text(0.5, 1.0, 'Binomial Distribution')"
      ]
     },
     "execution_count": 239,
     "metadata": {},
     "output_type": "execute_result"
    },
    {
     "data": {
      "image/png": "[encoded data removed]",
      "text/plain": [
       "<Figure size 432x288 with 1 Axes>"
      ]
     },
     "metadata": {
      "needs_background": "light"
     },
     "output_type": "display_data"
    }
   ],
   "source": [
    "from scipy.stats import binom\n",
    "#we are testing how likely the observed num of s\n",
    "data_binom = binom.rvs(n=n, p=expected_rate_survival, size=10000)\n",
    "#dist  = binom.pmf(successes, len(survived), woman_to_man_ratio)\n",
    "ax = sns.distplot(data_binom, bins=18,\n",
    "                  kde=False)\n",
    "ax.set(xlabel='expected survivals in {} young persons'.format(n), ylabel='Frequency')\n",
    "ax.axvline(survived_count, 0,0.5, color='r', linewidth='3')\n",
    "plt.title('Binomial Distribution')"
   ]
  },
  {
   "cell_type": "markdown",
   "metadata": {},
   "source": [
    "So here is a very nice visual showing that very little of our probability distribution is equal to or above the survival count that we saw. In this scenario we are essentially observing a sample population (Young) and expecting it's rate to be that of the total population (All ages). \n",
    "\n",
    "However both our significance test and this visual gives us the clear indication that this group a significantly different survival rate, which we consider to be the result of the priorty given them by those assisting in the survival efforts. \n",
    "\n",
    "Next we will look at the female survival."
   ]
  }
 ],
 "metadata": {
  "kernelspec": {
   "display_name": "Python 3",
   "language": "python",
   "name": "python3"
  },
  "language_info": {
   "codemirror_mode": {
    "name": "ipython",
    "version": 3
   },
   "file_extension": ".py",
   "mimetype": "text/x-python",
   "name": "python",
   "nbconvert_exporter": "python",
   "pygments_lexer": "ipython3",
   "version": "3.7.4"
  }
 },
 "nbformat": 4,
 "nbformat_minor": 4
}
