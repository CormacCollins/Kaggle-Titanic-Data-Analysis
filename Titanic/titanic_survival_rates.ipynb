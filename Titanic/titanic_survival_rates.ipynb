{
 "cells": [
  {
   "cell_type": "code",
   "execution_count": 64,
   "metadata": {},
   "outputs": [
    {
     "data": {
      "text/html": [
       "<script>\n",
       "code_show=true; \n",
       "function code_toggle() {\n",
       " if (code_show){\n",
       " $('div.input').hide();\n",
       " } else {\n",
       " $('div.input').show();\n",
       " }\n",
       " code_show = !code_show\n",
       "} \n",
       "$( document ).ready(code_toggle);\n",
       "</script>\n",
       "<form action=\"javascript:code_toggle()\"><input type=\"submit\" value=\"Click here to toggle on/off the raw code.\"></form>"
      ],
      "text/plain": [
       "<IPython.core.display.HTML object>"
      ]
     },
     "execution_count": 64,
     "metadata": {},
     "output_type": "execute_result"
    }
   ],
   "source": [
    "#https://stackoverflow.com/questions/27934885/how-to-hide-code-from-cells-in-ipython-notebook-visualized-with-nbviewer\n",
    "#cool code for a button to hide code \n",
    "from IPython.display import HTML\n",
    "\n",
    "HTML('''<script>\n",
    "code_show=true; \n",
    "function code_toggle() {\n",
    " if (code_show){\n",
    " $('div.input').hide();\n",
    " } else {\n",
    " $('div.input').show();\n",
    " }\n",
    " code_show = !code_show\n",
    "} \n",
    "$( document ).ready(code_toggle);\n",
    "</script>\n",
    "<form action=\"javascript:code_toggle()\"><input type=\"submit\" value=\"Click here to toggle on/off the raw code.\"></form>''')"
   ]
  },
  {
   "cell_type": "code",
   "execution_count": 2,
   "metadata": {},
   "outputs": [],
   "source": [
    "import pandas as pd\n",
    "import seaborn as sns\n",
    "import matplotlib.pyplot as plt\n",
    "import numpy as np\n",
    "import tabulate\n",
    "import statistical_tools as s_tools\n",
    "#plotting with seaborn\n",
    "#https://cmdlinetips.com/2019/02/how-to-make-histogram-in-python-with-pandas-and-seaborn/\n",
    "\n",
    "test = pd.read_csv(\"test.csv\")\n",
    "train = pd.read_csv(\"train.csv\")"
   ]
  },
  {
   "cell_type": "markdown",
   "metadata": {},
   "source": [
    "*So I'm looking to practice my data exploration skills but also formulating clean hypothesis that can be tested. I'm doing this while working through statistical-thinking on DataCamp. I want to play around with these techniques when I see them to get a feel for them. That means it might be a bit of overkill!*\n",
    "\n",
    "\n",
    "##### Titanic data exploration\n",
    "\n",
    "\n",
    "So when I grabbed this Titanic data, before even looking into the data, I had a thought (My knowledge influenced soley by the Movie!), that the woman and children were supposedly prioritized when the ship was sinking. So first of all let's check that, but secondly, in practicing out statistical prowess, can we prove this to be statistically significant?\n",
    "\n",
    "I will test this for Children and Women seperately.\n",
    "\n",
    "###### Children\n",
    "\n",
    "So to put this in research terms I will say: <br />\n",
    "My alternate hypothesis $\\mu_a$ = Children had greater survival rates than the overall survival rates of passengers on board<br />\n",
    "My Null hypothesis $\\mu_0$ = Children had the same survival rates as the overall survival rates of passengers on board\n",
    "\n",
    "Let's look quickly at the dataframe loaded from the 'test.csv' data"
   ]
  },
  {
   "cell_type": "code",
   "execution_count": 54,
   "metadata": {},
   "outputs": [
    {
     "data": {
      "text/html": [
       "<div>\n",
       "<style scoped>\n",
       "    .dataframe tbody tr th:only-of-type {\n",
       "        vertical-align: middle;\n",
       "    }\n",
       "\n",
       "    .dataframe tbody tr th {\n",
       "        vertical-align: top;\n",
       "    }\n",
       "\n",
       "    .dataframe thead th {\n",
       "        text-align: right;\n",
       "    }\n",
       "</style>\n",
       "<table border=\"1\" class=\"dataframe\">\n",
       "  <thead>\n",
       "    <tr style=\"text-align: right;\">\n",
       "      <th></th>\n",
       "      <th>PassengerId</th>\n",
       "      <th>Survived</th>\n",
       "      <th>Pclass</th>\n",
       "      <th>Name</th>\n",
       "      <th>Sex</th>\n",
       "      <th>Age</th>\n",
       "      <th>SibSp</th>\n",
       "      <th>Parch</th>\n",
       "      <th>Ticket</th>\n",
       "      <th>Fare</th>\n",
       "      <th>Cabin</th>\n",
       "      <th>Embarked</th>\n",
       "    </tr>\n",
       "  </thead>\n",
       "  <tbody>\n",
       "    <tr>\n",
       "      <th>0</th>\n",
       "      <td>1</td>\n",
       "      <td>0</td>\n",
       "      <td>3</td>\n",
       "      <td>Braund, Mr. Owen Harris</td>\n",
       "      <td>male</td>\n",
       "      <td>22.0</td>\n",
       "      <td>1</td>\n",
       "      <td>0</td>\n",
       "      <td>A/5 21171</td>\n",
       "      <td>7.2500</td>\n",
       "      <td>NaN</td>\n",
       "      <td>S</td>\n",
       "    </tr>\n",
       "    <tr>\n",
       "      <th>1</th>\n",
       "      <td>2</td>\n",
       "      <td>1</td>\n",
       "      <td>1</td>\n",
       "      <td>Cumings, Mrs. John Bradley (Florence Briggs Th...</td>\n",
       "      <td>female</td>\n",
       "      <td>38.0</td>\n",
       "      <td>1</td>\n",
       "      <td>0</td>\n",
       "      <td>PC 17599</td>\n",
       "      <td>71.2833</td>\n",
       "      <td>C85</td>\n",
       "      <td>C</td>\n",
       "    </tr>\n",
       "    <tr>\n",
       "      <th>2</th>\n",
       "      <td>3</td>\n",
       "      <td>1</td>\n",
       "      <td>3</td>\n",
       "      <td>Heikkinen, Miss. Laina</td>\n",
       "      <td>female</td>\n",
       "      <td>26.0</td>\n",
       "      <td>0</td>\n",
       "      <td>0</td>\n",
       "      <td>STON/O2. 3101282</td>\n",
       "      <td>7.9250</td>\n",
       "      <td>NaN</td>\n",
       "      <td>S</td>\n",
       "    </tr>\n",
       "    <tr>\n",
       "      <th>3</th>\n",
       "      <td>4</td>\n",
       "      <td>1</td>\n",
       "      <td>1</td>\n",
       "      <td>Futrelle, Mrs. Jacques Heath (Lily May Peel)</td>\n",
       "      <td>female</td>\n",
       "      <td>35.0</td>\n",
       "      <td>1</td>\n",
       "      <td>0</td>\n",
       "      <td>113803</td>\n",
       "      <td>53.1000</td>\n",
       "      <td>C123</td>\n",
       "      <td>S</td>\n",
       "    </tr>\n",
       "    <tr>\n",
       "      <th>4</th>\n",
       "      <td>5</td>\n",
       "      <td>0</td>\n",
       "      <td>3</td>\n",
       "      <td>Allen, Mr. William Henry</td>\n",
       "      <td>male</td>\n",
       "      <td>35.0</td>\n",
       "      <td>0</td>\n",
       "      <td>0</td>\n",
       "      <td>373450</td>\n",
       "      <td>8.0500</td>\n",
       "      <td>NaN</td>\n",
       "      <td>S</td>\n",
       "    </tr>\n",
       "  </tbody>\n",
       "</table>\n",
       "</div>"
      ],
      "text/plain": [
       "   PassengerId  Survived  Pclass  \\\n",
       "0            1         0       3   \n",
       "1            2         1       1   \n",
       "2            3         1       3   \n",
       "3            4         1       1   \n",
       "4            5         0       3   \n",
       "\n",
       "                                                Name     Sex   Age  SibSp  \\\n",
       "0                            Braund, Mr. Owen Harris    male  22.0      1   \n",
       "1  Cumings, Mrs. John Bradley (Florence Briggs Th...  female  38.0      1   \n",
       "2                             Heikkinen, Miss. Laina  female  26.0      0   \n",
       "3       Futrelle, Mrs. Jacques Heath (Lily May Peel)  female  35.0      1   \n",
       "4                           Allen, Mr. William Henry    male  35.0      0   \n",
       "\n",
       "   Parch            Ticket     Fare Cabin Embarked  \n",
       "0      0         A/5 21171   7.2500   NaN        S  \n",
       "1      0          PC 17599  71.2833   C85        C  \n",
       "2      0  STON/O2. 3101282   7.9250   NaN        S  \n",
       "3      0            113803  53.1000  C123        S  \n",
       "4      0            373450   8.0500   NaN        S  "
      ]
     },
     "execution_count": 54,
     "metadata": {},
     "output_type": "execute_result"
    }
   ],
   "source": [
    "train.head()"
   ]
  },
  {
   "cell_type": "markdown",
   "metadata": {},
   "source": [
    "Nice and easy, we have a 1 or 0 for 'survived' and 'didn't survive' respectively, and the age in another column. \n",
    "So we want maybe good a good look at the distributions of those that did and didn't survive, just as a nice visual."
   ]
  },
  {
   "cell_type": "code",
   "execution_count": 45,
   "metadata": {},
   "outputs": [],
   "source": [
    "survived = train[train['Survived'] == 1]"
   ]
  },
  {
   "cell_type": "code",
   "execution_count": 10,
   "metadata": {},
   "outputs": [
    {
     "data": {
      "text/plain": [
       "Text(0, 0.5, 'Density')"
      ]
     },
     "execution_count": 10,
     "metadata": {},
     "output_type": "execute_result"
    },
    {
     "data": {
      "image/png": "[encoded data removed]",
      "text/plain": [
       "<Figure size 432x288 with 1 Axes>"
      ]
     },
     "metadata": {
      "needs_background": "light"
     },
     "output_type": "display_data"
    }
   ],
   "source": [
    "#set bin range on how many age groups there are:\n",
    "max_age = max(train['Age'])\n",
    "bin_count = np.linspace(0, max_age, (int(max_age/10)+1))\n",
    "\n",
    "sns.distplot(train['Age'], bins=bin_count, kde=False, label='all ages')\n",
    "sns.distplot(survived['Age'], bins=bin_count,  kde=False,label='Survived age')\n",
    "\n",
    "plt.legend(prop={'size': 12})\n",
    "plt.title('All passengers ages vs survived passengers')\n",
    "plt.xlabel('Age groups')\n",
    "plt.ylabel('Density')"
   ]
  },
  {
   "cell_type": "code",
   "execution_count": 30,
   "metadata": {},
   "outputs": [],
   "source": [
    "?sns.barplot\n"
   ]
  },
  {
   "cell_type": "markdown",
   "metadata": {},
   "source": [
    "You can see here with this overlay of the surviving and non-surviving groups by age that there is a bigger gap between the middle ages compared to the children/teens. This is heavily infavour of our hypothesis, but we can get a more detailed look than this. By seeing the rates (proportions saved) for each age bracket."
   ]
  },
  {
   "cell_type": "code",
   "execution_count": 40,
   "metadata": {},
   "outputs": [
    {
     "name": "stdout",
     "output_type": "stream",
     "text": [
      "   Age group  Survival rate  Group count\n",
      "0      0 - 5       0.675000           40\n",
      "1     5 - 10       0.500000           22\n",
      "2    10 - 15       0.437500           16\n",
      "3    15 - 20       0.395349           86\n",
      "4    20 - 25       0.342105          114\n",
      "5    25 - 30       0.358491          106\n",
      "6    30 - 35       0.421053           95\n",
      "7    35 - 40       0.458333           72\n",
      "8    40 - 45       0.375000           48\n",
      "9    45 - 50       0.390244           41\n",
      "10   50 - 55       0.437500           32\n",
      "11   55 - 60       0.375000           16\n",
      "12   60 - 65       0.400000           15\n",
      "13   65 - 70       0.000000            4\n",
      "14   70 - 75       0.000000            6\n",
      "15   75 - 80       0.000000            0\n",
      "16   80 - 85       1.000000            1\n"
     ]
    },
    {
     "data": {
      "image/png": "[encoded data removed]",
      "text/plain": [
       "<Figure size 576x432 with 1 Axes>"
      ]
     },
     "metadata": {
      "needs_background": "light"
     },
     "output_type": "display_data"
    }
   ],
   "source": [
    "def age_group_plot_and_table(s, t):  \n",
    "    perc_survived = np.empty(18)\n",
    "    age_dict = {}\n",
    "    totals_dict = {}\n",
    "    #print(perc_survived)\n",
    "    for i in np.linspace(0, 80, 17):\n",
    "        #print(i)\n",
    "        srv = s[(s['Age'] >= i) & (s['Age'] < (i + 5))]\n",
    "        srv = srv['Age']\n",
    "        total = t[(t['Age'] >= i) & (t['Age'] < i+5)]\n",
    "        total = total['Age']\n",
    "\n",
    "        if len(total.values) != 0:\n",
    "            age_dict[i]  =  float(len(srv.values)/len(total.values))\n",
    "            totals_dict[i] = len(total.values)\n",
    "        else:\n",
    "            age_dict[i]  =  float(0)\n",
    "            totals_dict[i] = 0\n",
    "    \n",
    "    vals  = ['{} - {}'.format(int(i), int(i+5)) for i in list(age_dict.keys())]\n",
    "    fig, ax = plt.subplots(figsize=(8, 6))\n",
    "    df = pd.DataFrame({'Age group': vals, 'Survival rate': list(age_dict.values()), 'Group count':  list(totals_dict.values())})\n",
    "    \n",
    "    #sns.distplot(df['Age group'], bins=bin_count, label='survival rate')\n",
    "    sns.barplot(x = 'Age group', y = 'Survival rate', data = df, ax=ax)\n",
    "    plt.xticks(rotation=90)\n",
    "    plt.tight_layout()\n",
    "    return df \n",
    "    \n",
    "    \n",
    "df_group_data = age_group_plot_and_table(survived, train)\n",
    "print(df_group_data.to_string())"
   ]
  },
  {
   "cell_type": "markdown",
   "metadata": {},
   "source": [
    "Here I've plotted the survival rates by age group, and also the table of these rates - this helps us interpet some extreme results such as the 100% survival rate of the >80 year olds, but we can see that there was only 1 of them, so not a great  sample size for that population!\n",
    "\n",
    "But through the younger range we can a definite trending towards more survival roughly through the 0-15 years old range.\n",
    "\n",
    "Now our null hypothesis was that all the rates were actually the same.\n",
    "\n",
    "So we need to ask the questions:\n",
    "<ul>\n",
    "<li>How can we measure this objectively - and not just eyeball this graph (In some other data analysis, the differences in the data might not be so clear cut)  </li>\n",
    "<li>Using this measure, we can ask, what is the chance these observed differences are down to pure chance and variability?</li>\n",
    "</ul>\n",
    "\n",
    "\n",
    "So first, what was the total overall survival rate?\n"
   ]
  },
  {
   "cell_type": "code",
   "execution_count": 42,
   "metadata": {},
   "outputs": [
    {
     "name": "stdout",
     "output_type": "stream",
     "text": [
      "Overall suvival rate 38.38383838383838%\n"
     ]
    }
   ],
   "source": [
    "'Now let\\'s simulate a group with the same survival rate, but with the assumption that there were no differences between age group survivals'\n",
    "print('Overall suvival rate {}%'.format(len(train[train['Survived'] == 1])/len(train['Survived'])*100))\n"
   ]
  },
  {
   "cell_type": "markdown",
   "metadata": {},
   "source": [
    "\n",
    "So how we will test this, is we will take this data set and create 'Permutation Samples'. The picture below (Curtosy of DataCamps lessons on Statistical thinking) shows an example of this permutation, we take this sample of data, where the red and blue represent 2 different categories (such as young and old people) and these different data categories have some other shared data type (in this picture we can just say some numerical measure).\n",
    "\n",
    "![Permutation](permutation_example.jpg)\n",
    "\n",
    "You then jumble up all of these numbers and act as if it is a new sample of the same data population (see a jumbled version below - look at the first row and notice that they are all difference random numbers form the first picture)\n",
    "\n",
    "\n",
    "![Permutation](permutation_example_jumbled.jpg)\n",
    "\n",
    "We can then use this new sample to calculate the same statistics as we did on the original data set, such as the survival rates.\n",
    "\n",
    "So in our original empirical data we believe there are trends in the data that are not simply random (Children with a higher survival rate), but our jumbled data now represents a completely random scenario - in this case we would expect each age group to show a similar survival rate to the original mean of 38% \n",
    "\n",
    "In our comparison testing we will actually calculate for these permutations the <b>difference between young and 'the rest' i.e (young_survival_rate - all_older_ages_rate)</b>.\n",
    "<br />"
   ]
  },
  {
   "cell_type": "markdown",
   "metadata": {},
   "source": [
    "So next we create a large number of these jummbled data sets (Permutation Samples) and get the difference in survival rates betwen the young and older ages, this gives us a distribution of some of the variation that we might see if we sampled a bunch of identical ships with similar group ages and an assumed equal chance of survival between the ages.  \n",
    "\n",
    "So now we have arrived where we wanted for the ability to do a significance test between the original data and the data that would represent a world where there is no difference between survival rates betweent he age groups (Our random rates world).\n",
    "\n",
    "We have our test statistic - the difference in survival rate for the 'young' between 0 and 15 and the 'old' (the rest of the ages).\n",
    "And we have our data set representing an expected non-biased survival rate (Our distribution of survival rate differences form our permutations).\n",
    "\n",
    "We can plot thist distribution to get an idea of the range of expected differences. We can then calculate the probability that our original rates difference would land within this distribution. \n",
    "\n",
    "That is, the probability of our Alternate hypothesis <b>given</b> our null hypothesis. Or the probability of the survival rate difference that we have oberved, if we assumed that the age groups actually did have an equal chance of survival (as seen in our random world).\n",
    "\n",
    "This is written probabilistically as:\n",
    "P($\\mu_a$ | $\\mu_0$) = 'p-value'\n",
    "\n"
   ]
  },
  {
   "cell_type": "code",
   "execution_count": 46,
   "metadata": {},
   "outputs": [],
   "source": [
    "survival_rate =  lambda x: sum(x)/len(x)\n",
    "#lambda function for rate\n",
    "def diff_rates(d1, d2):\n",
    "    #I refrained from getting absolute value just to show that the permutations replicates will be normally distributed\n",
    "    return (survival_rate(d2) - survival_rate(d1)) \n",
    "\n",
    "range_0_to_15 =  train[(train['Age'] >= 0) & (train['Age'] < (15))]\n",
    "range_gt_or_eq_15 = train[(train['Age'] >= 15)]\n",
    "#print(range_0_to_15)\n",
    "#perm_sample1, perm_sample2 = s_tools.permutation_sample(range_0_to_15, range_gt_or_eq_15)\n",
    "\n",
    "# Take 10,000 bootstrap replicates of the rate: calculating boostrap replicates\n",
    "perm_replicates = s_tools.draw_perm_reps(range_0_to_15['Survived'], range_gt_or_eq_15['Survived'], diff_rates, size=10000)\n",
    "\n"
   ]
  },
  {
   "cell_type": "code",
   "execution_count": 49,
   "metadata": {},
   "outputs": [
    {
     "name": "stdout",
     "output_type": "stream",
     "text": [
      "Our original difference in survival rate 0.19170295113691332 would be miles off in the right side direction!\n"
     ]
    },
    {
     "data": {
      "image/png": "[encoded data removed]",
      "text/plain": [
       "<Figure size 432x288 with 1 Axes>"
      ]
     },
     "metadata": {
      "needs_background": "light"
     },
     "output_type": "display_data"
    }
   ],
   "source": [
    "\n",
    "orig_rate =  survival_rate(range_0_to_15['Survived']) - survival_rate(range_gt_or_eq_15['Survived'])\n",
    "norm_repl_data = np.true_divide(perm_replicates, len(perm_replicates))\n",
    "sns.distplot(norm_repl_data)\n",
    "\n",
    "plt.title('Distribution of permutation replicas (Difference in survival rate between \\'Young\\' and \\'old\\')')\n",
    "plt.xlabel('Difference')\n",
    "plt.ylabel('Distribution')\n",
    "print('Our original difference in survival rate {} would be miles off in the right side direction!'.format(orig_rate))"
   ]
  },
  {
   "cell_type": "markdown",
   "metadata": {},
   "source": [
    "So above we can see this distribution of our samples, and of course in a world where everyone has an equal survival rate we would expect this to center around a mean of 0. And if we plotted our original survival rate (0.19), it would be out of the graph far off on the right-hand side. Our statistical test in terms of this graph asks the question, how much proportion of this distribution (in blue on the graph) would be equal to or above our test statistic (the original survival difference). In this case, very little! Because original survival rate is so far to the right and so much bigger a rate than what would be considered a normal rate in our simulated world where we have assumed that all ages have equal survival chance.\n"
   ]
  },
  {
   "cell_type": "code",
   "execution_count": 66,
   "metadata": {},
   "outputs": [
    {
     "name": "stdout",
     "output_type": "stream",
     "text": [
      "Original rate difference 0.19170295113691332\n",
      "p-value = 0.0007\n"
     ]
    }
   ],
   "source": [
    "# Compute p-value: p\n",
    "print('Original rate difference {}'.format(orig_rate))\n",
    "p = np.sum(perm_replicates >= orig_rate) / len(perm_replicates)\n",
    "# Print the result\n",
    "print('p-value = {}'.format(p, '.5f'))"
   ]
  },
  {
   "cell_type": "markdown",
   "metadata": {},
   "source": [
    "Calculating that proportion gives us a p-value, and above we can see how low that p-value is, we could have set a specific significance cut of for the p-value such as 0.05, but in this case it is very low and we are satisified with it's significance. \n",
    "\n",
    "So in normal language: This is the probability of getting at least a difference in young-old survival rate of '0.19', assuming each age group had an equal chance of survival. \n",
    "\n",
    "So given that our probability of a rate of '0.19' is at least 0.0006%, we can safely say that this is a very rare result. So we reject the null hypothesis in favour of the Alternate hypothesis (Young people had higher survival rates), this supports our information that young people were given priorty. \n"
   ]
  },
  {
   "cell_type": "markdown",
   "metadata": {},
   "source": [
    "Now there may be a simpler way to prove this significance, which we will use on the females comparison, but first let's compare it with our previous method on the age difference.\n",
    "\n",
    "We will use a <b>Binomial test</b> to assess the probability of our observed successes (Surivors), given we would expect there to be a certain survival rate for that age group (the average) 38.38%.\n",
    "\n",
    "Put simply the Binomial test (for success/failure measures) is run to see if observed test results differ from what was expected. https://www.statisticshowto.com/binomial-test/\n",
    "\n",
    "Therefore this is perfect to test the number of 'successes' (survivals) that we observed, given that our hypothesis was that everyone has an equal survival chance.\n",
    "\n",
    "We use the binomial test in the following way:\n",
    "\n",
    "<b>n</b>: total number of observations (In out case, total number of young persons<br/>\n",
    "<b>successes</b>: total number of survivals we observed<br/>\n",
    "<b>probability</b>: the probability that a young person would suvival (We have stated this as the rate 38.38% given our hypothesis) <br />\n",
    "\n",
    "probability_of_result = binom_test(successes, n, probability)\n",
    "\n",
    "<b>probability_of_result</b>: This represents the probability of observing that amount of successes given our n and probability.\n",
    "\n",
    "So after we calculate:"
   ]
  },
  {
   "cell_type": "code",
   "execution_count": 62,
   "metadata": {},
   "outputs": [],
   "source": [
    "from scipy.stats import binom, binom_test\n",
    "#get age range 0-15\n",
    "age_0_to_15 = train[(train['Age'] >= 0) & (train['Age'] < 15)]\n",
    "survived_count = len(age_0_to_15[age_0_to_15['Survived'] == 1])\n",
    "n = len(age_0_to_15)\n",
    "expected_rate_survival = 0.3838 #the average survival for the whole group"
   ]
  },
  {
   "cell_type": "code",
   "execution_count": 64,
   "metadata": {},
   "outputs": [
    {
     "name": "stdout",
     "output_type": "stream",
     "text": [
      "Probability of observing (probability_of_result) that survival rate in 'young', given that we expect an equal share of survival:\n",
      " 0.0006475687\n"
     ]
    }
   ],
   "source": [
    "\n",
    "successes = survived_count # our question is what is the likelyhood of this number of successes\n",
    "#so we test that what is the probability of this amount of survival (survival rate woman), given this many trials (number survived) and given the expected probability of survival\n",
    "prob_of_res = binom_test(successes, n, expected_rate_survival)\n",
    "print('Probability of observing (probability_of_result) that survival rate in \\'young\\', given that we expect an equal share of survival:\\n {:.10f}'.format(prob_of_res))"
   ]
  },
  {
   "cell_type": "markdown",
   "metadata": {},
   "source": [
    "This is good to see, it is very close to our other statistical test which saw a p-value of 0.0007.<br />\n",
    "Let's plot the distribution and the expected value to get a visual of how our expected value appears..."
   ]
  },
  {
   "cell_type": "code",
   "execution_count": 67,
   "metadata": {},
   "outputs": [
    {
     "data": {
      "text/plain": [
       "Text(0.5, 1.0, 'Binomial Distribution')"
      ]
     },
     "execution_count": 67,
     "metadata": {},
     "output_type": "execute_result"
    },
    {
     "data": {
      "image/png": "[encoded data removed]",
      "text/plain": [
       "<Figure size 432x288 with 1 Axes>"
      ]
     },
     "metadata": {
      "needs_background": "light"
     },
     "output_type": "display_data"
    }
   ],
   "source": [
    "from scipy.stats import binom\n",
    "#we are testing how likely the observed num of s\n",
    "data_binom = binom.rvs(n=n, p=expected_rate_survival,size=10000)\n",
    "#dist  = binom.pmf(successes, len(survived), woman_to_man_ratio)\n",
    "ax = sns.distplot(data_binom,\n",
    "                  kde=False)\n",
    "ax.set(xlabel='expected survivals in {} young persons'.format(n), ylabel='Frequency')\n",
    "ax.axvline(survived_count, 0,0.5, color='r', linewidth='3')\n",
    "plt.title('Binomial Distribution')"
   ]
  },
  {
   "cell_type": "markdown",
   "metadata": {},
   "source": [
    "So here is a very nice visual showing that very little of our probability distribution is equal to or above the survival count that we saw. In this scenario we are essentially observing a sample population (Young) and expecting it's rate to be that of the total popultation (All ages). \n",
    "\n",
    "However both our significance test and this visual gives us the clear indication that this group a significantly different survival rate, which we consider to be the result of the priorty given them by those assisting in the survival efforts.\n",
    "\n",
    "In an accompanying document I will use the binomial testin the same way on the women also. I will do a more alround exploration in future workbooks."
   ]
  }
 ],
 "metadata": {
  "kernelspec": {
   "display_name": "Python 3",
   "language": "python",
   "name": "python3"
  },
  "language_info": {
   "codemirror_mode": {
    "name": "ipython",
    "version": 3
   },
   "file_extension": ".py",
   "mimetype": "text/x-python",
   "name": "python",
   "nbconvert_exporter": "python",
   "pygments_lexer": "ipython3",
   "version": "3.7.4"
  }
 },
 "nbformat": 4,
 "nbformat_minor": 4
}
