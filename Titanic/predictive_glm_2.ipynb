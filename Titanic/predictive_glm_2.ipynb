{
 "cells": [
  {
   "cell_type": "code",
   "execution_count": 83,
   "metadata": {},
   "outputs": [
    {
     "data": {
      "text/html": [
       "<script>\n",
       "code_show=true; \n",
       "function code_toggle() {\n",
       " if (code_show){\n",
       " $('div.input').hide();\n",
       " } else {\n",
       " $('div.input').show();\n",
       " }\n",
       " code_show = !code_show\n",
       "} \n",
       "$( document ).ready(code_toggle);\n",
       "</script>\n",
       "<form action=\"javascript:code_toggle()\"><input type=\"submit\" value=\"Click here to toggle on/off the raw code.\"></form>"
      ],
      "text/plain": [
       "<IPython.core.display.HTML object>"
      ]
     },
     "execution_count": 83,
     "metadata": {},
     "output_type": "execute_result"
    }
   ],
   "source": [
    "#https://stackoverflow.com/questions/27934885/how-to-hide-code-from-cells-in-ipython-notebook-visualized-with-nbviewer\n",
    "#cool code for a button to hide code \n",
    "from IPython.display import HTML\n",
    "\n",
    "HTML('''<script>\n",
    "code_show=true; \n",
    "function code_toggle() {\n",
    " if (code_show){\n",
    " $('div.input').hide();\n",
    " } else {\n",
    " $('div.input').show();\n",
    " }\n",
    " code_show = !code_show\n",
    "} \n",
    "$( document ).ready(code_toggle);\n",
    "</script>\n",
    "<form action=\"javascript:code_toggle()\"><input type=\"submit\" value=\"Click here to toggle on/off the raw code.\"></form>''')\n"
   ]
  },
  {
   "cell_type": "code",
   "execution_count": null,
   "metadata": {},
   "outputs": [],
   "source": [
    "import pandas as pd\n",
    "import seaborn as sns\n",
    "import matplotlib.pyplot as plt\n",
    "import numpy as np\n",
    "import tabulate\n",
    "import statistical_tools as s_tools\n",
    "import statsmodels.api as sm \n",
    "from statsmodels.formula.api import glm \n",
    "#plotting with seaborn\n",
    "#https://cmdlinetips.com/2019/02/how-to-make-histogram-in-python-with-pandas-and-seaborn/\n",
    "\n",
    "train = pd.read_csv(\"train.csv\")\n",
    "test = pd.read_csv(\"test.csv\")"
   ]
  },
  {
   "cell_type": "markdown",
   "metadata": {},
   "source": [
    "This time we want to play around with some of the other factors a bit more, now last time I fixed up the missing values in Age, but I just wanted to show the nice technique visually for how to fill in some of this numerical data."
   ]
  },
  {
   "cell_type": "code",
   "execution_count": 61,
   "metadata": {},
   "outputs": [
    {
     "data": {
      "text/plain": [
       "PassengerId      0\n",
       "Survived         0\n",
       "Pclass           0\n",
       "Name             0\n",
       "Sex              0\n",
       "Age            177\n",
       "SibSp            0\n",
       "Parch            0\n",
       "Ticket           0\n",
       "Fare             0\n",
       "Cabin          687\n",
       "Embarked         2\n",
       "dtype: int64"
      ]
     },
     "execution_count": 61,
     "metadata": {},
     "output_type": "execute_result"
    }
   ],
   "source": [
    "train.isnull().sum()"
   ]
  },
  {
   "cell_type": "code",
   "execution_count": 62,
   "metadata": {},
   "outputs": [
    {
     "data": {
      "image/png": "[encoded data removed]",
      "text/plain": [
       "<Figure size 432x288 with 1 Axes>"
      ]
     },
     "metadata": {
      "needs_background": "light"
     },
     "output_type": "display_data"
    }
   ],
   "source": [
    " def plot_distr(df):\n",
    "    max_age = max(df['Age'])\n",
    "    bin_count = np.linspace(0, max_age, (int(max_age/10)+1))\n",
    "    sns.distplot(df['Age'], bins=bin_count, kde=False, label='all ages');\n",
    "\n",
    "    plt.legend(prop={'size': 12});\n",
    "    plt.title('All passengers ages vs survived passengers');\n",
    "    plt.xlabel('Age groups');\n",
    "    plt.ylabel('Density');\n",
    "plot_distr(train)"
   ]
  },
  {
   "cell_type": "markdown",
   "metadata": {},
   "source": [
    "This is a distribution plot of the ages, and we have lots of NA values, so we need to fill in the gaps somehow. We could replace them with the mean or median, but this would narrow the distirbution and alter the data. What we will actually do is randomly sample from this dataset within our usually expected range within a std's either side of the mean"
   ]
  },
  {
   "cell_type": "code",
   "execution_count": 63,
   "metadata": {},
   "outputs": [],
   "source": [
    "#replace null values with random samples from distr\n",
    "def resample_age_values(df):\n",
    "    mean = np.mean(df['Age'])\n",
    "    std = np.std(df['Age'])\n",
    "\n",
    "    rand_age = np.random.randint(mean - std, mean + std, size = df['Age'].isnull().sum())\n",
    "    age_slice = df[\"Age\"].copy()\n",
    "    age_slice[np.isnan(age_slice)] = rand_age\n",
    "    df[\"Age\"] = age_slice\n",
    "    df[\"Age\"] = df[\"Age\"].astype(int)\n",
    "\n",
    "resample_age_values(train)\n",
    "resample_age_values(test)\n"
   ]
  },
  {
   "cell_type": "code",
   "execution_count": 64,
   "metadata": {},
   "outputs": [
    {
     "data": {
      "image/png": "[encoded data removed]",
      "text/plain": [
       "<Figure size 432x288 with 1 Axes>"
      ]
     },
     "metadata": {
      "needs_background": "light"
     },
     "output_type": "display_data"
    }
   ],
   "source": [
    "#plot again and see how the distribution stays the same but with more values\n",
    "plot_distr(train)"
   ]
  },
  {
   "cell_type": "markdown",
   "metadata": {},
   "source": [
    "You will notice the distribution shape looks identical, except if you look at the y-axis you will see that it has grown taller and relatively equal (of course we may be increasing the rareness of the extreme values a bit more, this isn't perfect but it will tend to strengthen the average affect of the distribution, instead of exaggerating the outliers if we used 2*Std."
   ]
  },
  {
   "cell_type": "markdown",
   "metadata": {},
   "source": [
    "Next we will extract the cabin letters from the tickets, and see if there is any information we can gleam from this"
   ]
  },
  {
   "cell_type": "code",
   "execution_count": 65,
   "metadata": {},
   "outputs": [],
   "source": [
    "def cabin_letter(df):\n",
    "    df['Cabin_letter'] = df['Cabin'].str.replace('\\d+', '')\n",
    "    df['Cabin_letter'] = df['Cabin_letter'].str[0:1]\n",
    "    m = df['Cabin_letter'].value_counts().idxmax()\n",
    "    df.loc[df['Cabin_letter'] == 'T', 'Cabin_letter'] = m\n",
    "cabin_letter(train)\n",
    "cabin_letter(test)"
   ]
  },
  {
   "cell_type": "code",
   "execution_count": 66,
   "metadata": {},
   "outputs": [],
   "source": [
    "#add is_young category\n",
    "train['is_young'] = np.where(train['Age'] < 11, 1, 0)\n",
    "test['is_young'] = np.where(test['Age'] < 11, 1, 0)\n",
    "#categorize family numbers\n",
    "for letter in train['Embarked'].value_counts().index:\n",
    "    train['embarked_' + letter] = np.where(train['Embarked']== letter, 1, 0)\n",
    "    test['embarked_' + letter] = np.where(test['Embarked']== letter, 1, 0)\n"
   ]
  },
  {
   "cell_type": "code",
   "execution_count": 67,
   "metadata": {},
   "outputs": [
    {
     "data": {
      "image/png": "[encoded data removed]",
      "text/plain": [
       "<Figure size 432x288 with 1 Axes>"
      ]
     },
     "metadata": {
      "needs_background": "light"
     },
     "output_type": "display_data"
    }
   ],
   "source": [
    "def plot_surv_category(d, cat):\n",
    "    prop_survived_parch = d[cat][d['Survived'] == 1].value_counts().sort_index()/d[cat].value_counts().sort_index()\n",
    "    prop_survived_parch = prop_survived_parch.fillna(0)\n",
    "    df = pd.DataFrame({'proportion survived': prop_survived_parch,\n",
    "                         'count': train[cat].value_counts().sort_index().index})\n",
    "\n",
    "\n",
    "    sns.lineplot(x = 'count', y = 'proportion survived',  data=df, label=' ')\n",
    "    #sns.distplot(,  kde=False,label='SibSp')\n",
    "    #plt.ylim(0, 300)\n",
    "\n",
    "    plt.legend(prop={'size': 12})\n",
    "    #plt.title('All passengers ages vs survived passengers')\n",
    "    plt.xlabel('Number of people')\n",
    "\n",
    "    plt.ylabel('Proportions surviving')\n",
    "    plt.title('Survival depending on ' + cat)\n",
    "plot_surv_category(train, 'Cabin_letter')\n"
   ]
  },
  {
   "cell_type": "markdown",
   "metadata": {},
   "source": [
    "Here can see there might be some importance to thos eparticularly cabin numbers, maybe they are easier to escape from, or maybe some of them are richer people too. Either way, we might extract a few of these important cabin numbers and use them as predictors"
   ]
  },
  {
   "cell_type": "code",
   "execution_count": 68,
   "metadata": {},
   "outputs": [],
   "source": [
    "for letter in ['B', 'D', 'E']:\n",
    "    train['cabin_' + letter] = np.where(train['Cabin_letter'] == letter, 1, 0)\n",
    "    test['cabin_' + letter] = np.where(test['Cabin_letter'] == letter, 1, 0)\n"
   ]
  },
  {
   "cell_type": "code",
   "execution_count": 69,
   "metadata": {},
   "outputs": [],
   "source": [
    "common = train['Embarked'].describe().top\n",
    "train['Embarked'] = train['Embarked'].fillna(common)\n",
    "common = test['Embarked'].describe().top\n",
    "test['Embarked'] = test['Embarked'].fillna(common)"
   ]
  },
  {
   "cell_type": "code",
   "execution_count": 70,
   "metadata": {},
   "outputs": [
    {
     "data": {
      "image/png": "[encoded data removed]",
      "text/plain": [
       "<Figure size 432x288 with 1 Axes>"
      ]
     },
     "metadata": {
      "needs_background": "light"
     },
     "output_type": "display_data"
    }
   ],
   "source": [
    "plot_surv_category(train, 'Embarked')"
   ]
  },
  {
   "cell_type": "markdown",
   "metadata": {},
   "source": [
    "Also looking at the embark code, we see some differences in survival, again this might be very well related to class or cabin number, but maybe the ship was filled from the bottom up, so later boarding regions had an advantage? So we can add it to our list and see what it does."
   ]
  },
  {
   "cell_type": "code",
   "execution_count": 71,
   "metadata": {},
   "outputs": [
    {
     "name": "stderr",
     "output_type": "stream",
     "text": [
      "C:\\Users\\corma\\Anaconda3\\lib\\site-packages\\pandas\\core\\indexing.py:671: SettingWithCopyWarning: \n",
      "A value is trying to be set on a copy of a slice from a DataFrame\n",
      "\n",
      "See the caveats in the documentation: https://pandas.pydata.org/pandas-docs/stable/user_guide/indexing.html#returning-a-view-versus-a-copy\n",
      "  self._setitem_with_indexer(indexer, value)\n"
     ]
    },
    {
     "data": {
      "text/plain": [
       "1    517\n",
       "2    185\n",
       "3    126\n",
       "4     40\n",
       "5     23\n",
       "Name: title, dtype: int64"
      ]
     },
     "execution_count": 71,
     "metadata": {},
     "output_type": "execute_result"
    }
   ],
   "source": [
    "\n",
    "\n",
    "def set_title_field(df):\n",
    "    titles = {\"Mr\": 1, \"Miss\": 2, 'Mlle':2, 'Ms':2, 'Mme':3, \"Mrs\": 3, \"Master\": 4, \"Rare\": 5, 'Lady': 5, 'Countess':5 ,'Capt': 5, 'Col': 5,'Don': 5, 'Dr': 5,\\\n",
    "                                            'Major': 5, 'Rev': 5, 'Sir': 5, 'Jonkheer': 5, 'Dona': 5}\n",
    "\n",
    "    df['title'] = 0\n",
    "    \n",
    "    title_set = set(titles.keys())\n",
    "    l = list()\n",
    "    for i in range(len(df)):\n",
    "        vals = df['Name'].iloc[i].split(' ') \n",
    "        for j in vals:\n",
    "            title = j.strip('.')\n",
    "            if title in title_set:\n",
    "                #print(title)\n",
    "                df['title'].iloc[i] = titles[title]\n",
    "                break\n",
    "            \n",
    "set_title_field(train)\n",
    "set_title_field(test)\n",
    "train['title'].value_counts()  "
   ]
  },
  {
   "cell_type": "markdown",
   "metadata": {},
   "source": [
    "I am also seen form other peoples analysis of this data set the use of 'title', so I have extracted that and will use it.\n",
    "I looked at how that was done here: https://towardsdatascience.com/predicting-the-survival-of-titanic-passengers-30870ccc7e8\n",
    "\n"
   ]
  },
  {
   "cell_type": "code",
   "execution_count": 72,
   "metadata": {},
   "outputs": [
    {
     "data": {
      "image/png": "[encoded data removed]",
      "text/plain": [
       "<Figure size 432x288 with 1 Axes>"
      ]
     },
     "metadata": {
      "needs_background": "light"
     },
     "output_type": "display_data"
    }
   ],
   "source": [
    "ax = sns.barplot(x=\"title\", y=\"Survived\", data=train);\n",
    "plt.title('Proportion of survival by title');"
   ]
  },
  {
   "cell_type": "code",
   "execution_count": 73,
   "metadata": {},
   "outputs": [
    {
     "data": {
      "text/html": [
       "<div>\n",
       "<style scoped>\n",
       "    .dataframe tbody tr th:only-of-type {\n",
       "        vertical-align: middle;\n",
       "    }\n",
       "\n",
       "    .dataframe tbody tr th {\n",
       "        vertical-align: top;\n",
       "    }\n",
       "\n",
       "    .dataframe thead th {\n",
       "        text-align: right;\n",
       "    }\n",
       "</style>\n",
       "<table border=\"1\" class=\"dataframe\">\n",
       "  <thead>\n",
       "    <tr style=\"text-align: right;\">\n",
       "      <th></th>\n",
       "      <th>PassengerId</th>\n",
       "      <th>Survived</th>\n",
       "      <th>Pclass</th>\n",
       "      <th>Name</th>\n",
       "      <th>Sex</th>\n",
       "      <th>Age</th>\n",
       "      <th>SibSp</th>\n",
       "      <th>Parch</th>\n",
       "      <th>Ticket</th>\n",
       "      <th>Fare</th>\n",
       "      <th>...</th>\n",
       "      <th>Embarked</th>\n",
       "      <th>Cabin_letter</th>\n",
       "      <th>is_young</th>\n",
       "      <th>embarked_S</th>\n",
       "      <th>embarked_C</th>\n",
       "      <th>embarked_Q</th>\n",
       "      <th>cabin_B</th>\n",
       "      <th>cabin_D</th>\n",
       "      <th>cabin_E</th>\n",
       "      <th>title</th>\n",
       "    </tr>\n",
       "  </thead>\n",
       "  <tbody>\n",
       "    <tr>\n",
       "      <th>0</th>\n",
       "      <td>1</td>\n",
       "      <td>0</td>\n",
       "      <td>3</td>\n",
       "      <td>Braund, Mr. Owen Harris</td>\n",
       "      <td>male</td>\n",
       "      <td>22</td>\n",
       "      <td>1</td>\n",
       "      <td>0</td>\n",
       "      <td>A/5 21171</td>\n",
       "      <td>7.2500</td>\n",
       "      <td>...</td>\n",
       "      <td>S</td>\n",
       "      <td>NaN</td>\n",
       "      <td>0</td>\n",
       "      <td>1</td>\n",
       "      <td>0</td>\n",
       "      <td>0</td>\n",
       "      <td>0</td>\n",
       "      <td>0</td>\n",
       "      <td>0</td>\n",
       "      <td>1</td>\n",
       "    </tr>\n",
       "    <tr>\n",
       "      <th>1</th>\n",
       "      <td>2</td>\n",
       "      <td>1</td>\n",
       "      <td>1</td>\n",
       "      <td>Cumings, Mrs. John Bradley (Florence Briggs Th...</td>\n",
       "      <td>female</td>\n",
       "      <td>38</td>\n",
       "      <td>1</td>\n",
       "      <td>0</td>\n",
       "      <td>PC 17599</td>\n",
       "      <td>71.2833</td>\n",
       "      <td>...</td>\n",
       "      <td>C</td>\n",
       "      <td>C</td>\n",
       "      <td>0</td>\n",
       "      <td>0</td>\n",
       "      <td>1</td>\n",
       "      <td>0</td>\n",
       "      <td>0</td>\n",
       "      <td>0</td>\n",
       "      <td>0</td>\n",
       "      <td>3</td>\n",
       "    </tr>\n",
       "    <tr>\n",
       "      <th>2</th>\n",
       "      <td>3</td>\n",
       "      <td>1</td>\n",
       "      <td>3</td>\n",
       "      <td>Heikkinen, Miss. Laina</td>\n",
       "      <td>female</td>\n",
       "      <td>26</td>\n",
       "      <td>0</td>\n",
       "      <td>0</td>\n",
       "      <td>STON/O2. 3101282</td>\n",
       "      <td>7.9250</td>\n",
       "      <td>...</td>\n",
       "      <td>S</td>\n",
       "      <td>NaN</td>\n",
       "      <td>0</td>\n",
       "      <td>1</td>\n",
       "      <td>0</td>\n",
       "      <td>0</td>\n",
       "      <td>0</td>\n",
       "      <td>0</td>\n",
       "      <td>0</td>\n",
       "      <td>2</td>\n",
       "    </tr>\n",
       "    <tr>\n",
       "      <th>3</th>\n",
       "      <td>4</td>\n",
       "      <td>1</td>\n",
       "      <td>1</td>\n",
       "      <td>Futrelle, Mrs. Jacques Heath (Lily May Peel)</td>\n",
       "      <td>female</td>\n",
       "      <td>35</td>\n",
       "      <td>1</td>\n",
       "      <td>0</td>\n",
       "      <td>113803</td>\n",
       "      <td>53.1000</td>\n",
       "      <td>...</td>\n",
       "      <td>S</td>\n",
       "      <td>C</td>\n",
       "      <td>0</td>\n",
       "      <td>1</td>\n",
       "      <td>0</td>\n",
       "      <td>0</td>\n",
       "      <td>0</td>\n",
       "      <td>0</td>\n",
       "      <td>0</td>\n",
       "      <td>3</td>\n",
       "    </tr>\n",
       "    <tr>\n",
       "      <th>4</th>\n",
       "      <td>5</td>\n",
       "      <td>0</td>\n",
       "      <td>3</td>\n",
       "      <td>Allen, Mr. William Henry</td>\n",
       "      <td>male</td>\n",
       "      <td>35</td>\n",
       "      <td>0</td>\n",
       "      <td>0</td>\n",
       "      <td>373450</td>\n",
       "      <td>8.0500</td>\n",
       "      <td>...</td>\n",
       "      <td>S</td>\n",
       "      <td>NaN</td>\n",
       "      <td>0</td>\n",
       "      <td>1</td>\n",
       "      <td>0</td>\n",
       "      <td>0</td>\n",
       "      <td>0</td>\n",
       "      <td>0</td>\n",
       "      <td>0</td>\n",
       "      <td>1</td>\n",
       "    </tr>\n",
       "  </tbody>\n",
       "</table>\n",
       "<p>5 rows × 21 columns</p>\n",
       "</div>"
      ],
      "text/plain": [
       "   PassengerId  Survived  Pclass  \\\n",
       "0            1         0       3   \n",
       "1            2         1       1   \n",
       "2            3         1       3   \n",
       "3            4         1       1   \n",
       "4            5         0       3   \n",
       "\n",
       "                                                Name     Sex  Age  SibSp  \\\n",
       "0                            Braund, Mr. Owen Harris    male   22      1   \n",
       "1  Cumings, Mrs. John Bradley (Florence Briggs Th...  female   38      1   \n",
       "2                             Heikkinen, Miss. Laina  female   26      0   \n",
       "3       Futrelle, Mrs. Jacques Heath (Lily May Peel)  female   35      1   \n",
       "4                           Allen, Mr. William Henry    male   35      0   \n",
       "\n",
       "   Parch            Ticket     Fare  ... Embarked Cabin_letter is_young  \\\n",
       "0      0         A/5 21171   7.2500  ...        S          NaN        0   \n",
       "1      0          PC 17599  71.2833  ...        C            C        0   \n",
       "2      0  STON/O2. 3101282   7.9250  ...        S          NaN        0   \n",
       "3      0            113803  53.1000  ...        S            C        0   \n",
       "4      0            373450   8.0500  ...        S          NaN        0   \n",
       "\n",
       "   embarked_S  embarked_C  embarked_Q  cabin_B  cabin_D  cabin_E  title  \n",
       "0           1           0           0        0        0        0      1  \n",
       "1           0           1           0        0        0        0      3  \n",
       "2           1           0           0        0        0        0      2  \n",
       "3           1           0           0        0        0        0      3  \n",
       "4           1           0           0        0        0        0      1  \n",
       "\n",
       "[5 rows x 21 columns]"
      ]
     },
     "execution_count": 73,
     "metadata": {},
     "output_type": "execute_result"
    }
   ],
   "source": [
    "train.head()"
   ]
  },
  {
   "cell_type": "markdown",
   "metadata": {},
   "source": [
    "So now we can see some of the new fields I have created for the categories, to allow the logistical model to intepret them"
   ]
  },
  {
   "cell_type": "code",
   "execution_count": 74,
   "metadata": {},
   "outputs": [
    {
     "name": "stdout",
     "output_type": "stream",
     "text": [
      "     variables        VIF\n",
      "0          Age   1.202685\n",
      "1   embarked_C   1.142167\n",
      "2        Parch   1.358218\n",
      "3        SibSp   1.337804\n",
      "4         Fare   1.873119\n",
      "5      cabin_B   1.355742\n",
      "6      cabin_D   1.186184\n",
      "7      cabin_E   1.145892\n",
      "8        title   1.532727\n",
      "9      class 2   2.506703\n",
      "10     class 3   3.499527\n",
      "11           F   1.402502\n",
      "12   Intercept  27.883492\n"
     ]
    }
   ],
   "source": [
    "#VIF\n",
    "from statsmodels.stats.outliers_influence import variance_inflation_factor \n",
    "\n",
    "# Get variables for which to compute VIF and add intercept term \n",
    "#Pclass == 1 and Sex == male are the reference factors for those categories - it is redundant to put them in and actually causes errors\n",
    "\n",
    "factors_arr = ['Age', 'embarked_C' , 'Parch', 'SibSp', 'Fare', 'cabin_B', 'cabin_D', 'cabin_E', 'title']\n",
    "\n",
    "\n",
    "\n",
    "X = train[factors_arr].copy()\n",
    "X['class 2'] = np.where(train['Pclass']== 2, 1, 0)\n",
    "X['class 3'] = np.where(train['Pclass']== 3, 1, 0)\n",
    "X['F'] = np.where(train['Sex']== 'female', 1, 0)\n",
    "X['Intercept'] = 1 \n",
    "\n",
    "factors_arr.append('Pclass')\n",
    "factors_arr.append('Sex')\n",
    "\n",
    "# Compute and view VIF \n",
    "vif = pd.DataFrame() \n",
    "vif[\"variables\"] = X.columns \n",
    "\n",
    "vif[\"VIF\"] = [variance_inflation_factor(X.values, i) for i in range(X.shape[1])] \n",
    "\n",
    "  \n",
    "\n",
    "# View results using print \n",
    "\n",
    "print(vif) "
   ]
  },
  {
   "cell_type": "markdown",
   "metadata": {},
   "source": [
    "Calculating the VIF we don't see anything except class 3 over the 2.5 threshold, so that looks pretty good. Although I will still take this with a grain of salt, given VIF's use with categorical is not as strong."
   ]
  },
  {
   "cell_type": "markdown",
   "metadata": {},
   "source": [
    "Next we will look at the model summary for all our new variables"
   ]
  },
  {
   "cell_type": "code",
   "execution_count": 89,
   "metadata": {},
   "outputs": [
    {
     "name": "stdout",
     "output_type": "stream",
     "text": [
      "                 Generalized Linear Model Regression Results                  \n",
      "==============================================================================\n",
      "Dep. Variable:               Survived   No. Observations:                  534\n",
      "Model:                            GLM   Df Residuals:                      519\n",
      "Model Family:                Binomial   Df Model:                           14\n",
      "Link Function:                  logit   Scale:                          1.0000\n",
      "Method:                          IRLS   Log-Likelihood:                -208.90\n",
      "Date:                Tue, 19 May 2020   Deviance:                       417.81\n",
      "Time:                        10:35:40   Pearson chi2:                     530.\n",
      "No. Iterations:                    19                                         \n",
      "Covariance Type:            nonrobust                                         \n",
      "==================================================================================\n",
      "                     coef    std err          z      P>|z|      [0.025      0.975]\n",
      "----------------------------------------------------------------------------------\n",
      "Intercept         21.5465   1.23e+04      0.002      0.999   -2.41e+04    2.42e+04\n",
      "C(Pclass)[T.2]    -1.4465      0.448     -3.227      0.001      -2.325      -0.568\n",
      "C(Pclass)[T.3]    -2.5526      0.421     -6.063      0.000      -3.378      -1.728\n",
      "C(Sex)[T.male]   -20.5683   1.23e+04     -0.002      0.999   -2.42e+04    2.41e+04\n",
      "C(title)[T.2]    -17.5695   1.23e+04     -0.001      0.999   -2.42e+04    2.41e+04\n",
      "C(title)[T.3]    -16.6748   1.23e+04     -0.001      0.999   -2.42e+04    2.41e+04\n",
      "C(title)[T.4]      3.4643      0.701      4.944      0.000       2.091       4.838\n",
      "C(title)[T.5]     -0.0564      0.751     -0.075      0.940      -1.528       1.415\n",
      "Age               -0.0364      0.011     -3.165      0.002      -0.059      -0.014\n",
      "SibSp             -0.5196      0.162     -3.206      0.001      -0.837      -0.202\n",
      "Parch             -0.2222      0.167     -1.334      0.182      -0.549       0.104\n",
      "embarked_C         0.2528      0.338      0.747      0.455      -0.410       0.916\n",
      "cabin_B            0.8296      0.736      1.128      0.259      -0.612       2.271\n",
      "cabin_D            0.4564      0.627      0.728      0.467      -0.773       1.685\n",
      "cabin_E            0.7206      0.659      1.094      0.274      -0.571       2.012\n",
      "==================================================================================\n"
     ]
    }
   ],
   "source": [
    "data_slice = np.random.choice(len(train), replace=False, size=int(len(train)*0.6))\n",
    "train_half = train[train.index.isin(data_slice)].copy()\n",
    "train_2nd_half = train[~train.index.isin(data_slice)].copy()\n",
    "\n",
    "#get optimal threshold \n",
    "formula = 'Survived ~ Age + SibSp + Parch + C(Pclass) + C(Sex) + embarked_C + cabin_B + cabin_D + cabin_E + C(title)'# + C(Cabin_letter)' \n",
    "model = glm(formula, data = train_half, family = sm.families.Binomial()).fit() \n",
    "print(model.summary()) \n"
   ]
  },
  {
   "cell_type": "markdown",
   "metadata": {},
   "source": [
    "We can see that title has a very high p-value, so we will remove this and refit the model."
   ]
  },
  {
   "cell_type": "code",
   "execution_count": 91,
   "metadata": {},
   "outputs": [
    {
     "name": "stdout",
     "output_type": "stream",
     "text": [
      "                 Generalized Linear Model Regression Results                  \n",
      "==============================================================================\n",
      "Dep. Variable:               Survived   No. Observations:                  534\n",
      "Model:                            GLM   Df Residuals:                      523\n",
      "Model Family:                Binomial   Df Model:                           10\n",
      "Link Function:                  logit   Scale:                          1.0000\n",
      "Method:                          IRLS   Log-Likelihood:                -226.38\n",
      "Date:                Tue, 19 May 2020   Deviance:                       452.76\n",
      "Time:                        10:36:52   Pearson chi2:                     514.\n",
      "No. Iterations:                     5                                         \n",
      "Covariance Type:            nonrobust                                         \n",
      "==================================================================================\n",
      "                     coef    std err          z      P>|z|      [0.025      0.975]\n",
      "----------------------------------------------------------------------------------\n",
      "Intercept          4.2239      0.589      7.173      0.000       3.070       5.378\n",
      "C(Pclass)[T.2]    -1.1797      0.405     -2.911      0.004      -1.974      -0.385\n",
      "C(Pclass)[T.3]    -2.4165      0.390     -6.189      0.000      -3.182      -1.651\n",
      "C(Sex)[T.male]    -2.7791      0.268    -10.376      0.000      -3.304      -2.254\n",
      "Age               -0.0497      0.010     -5.073      0.000      -0.069      -0.031\n",
      "SibSp             -0.3341      0.136     -2.460      0.014      -0.600      -0.068\n",
      "Parch              0.0595      0.147      0.404      0.686      -0.229       0.348\n",
      "embarked_C         0.2110      0.321      0.657      0.511      -0.418       0.840\n",
      "cabin_B            0.9630      0.710      1.356      0.175      -0.429       2.355\n",
      "cabin_D            0.5449      0.589      0.924      0.355      -0.611       1.700\n",
      "cabin_E            1.0023      0.621      1.613      0.107      -0.216       2.220\n",
      "==================================================================================\n"
     ]
    }
   ],
   "source": [
    "formula = 'Survived ~ Age + SibSp + Parch + C(Pclass) + C(Sex) + embarked_C + cabin_B + cabin_D + cabin_E'# + C(Cabin_letter)' \n",
    "model = glm(formula, data = train_half, family = sm.families.Binomial()).fit() \n",
    "print(model.summary()) "
   ]
  },
  {
   "cell_type": "markdown",
   "metadata": {},
   "source": [
    "Next is Parch, which I thought was a nice DV from our previous model, but likely has some interactions with other variables."
   ]
  },
  {
   "cell_type": "code",
   "execution_count": 92,
   "metadata": {},
   "outputs": [
    {
     "name": "stdout",
     "output_type": "stream",
     "text": [
      "                 Generalized Linear Model Regression Results                  \n",
      "==============================================================================\n",
      "Dep. Variable:               Survived   No. Observations:                  534\n",
      "Model:                            GLM   Df Residuals:                      524\n",
      "Model Family:                Binomial   Df Model:                            9\n",
      "Link Function:                  logit   Scale:                          1.0000\n",
      "Method:                          IRLS   Log-Likelihood:                -226.46\n",
      "Date:                Tue, 19 May 2020   Deviance:                       452.92\n",
      "Time:                        10:38:45   Pearson chi2:                     514.\n",
      "No. Iterations:                     5                                         \n",
      "Covariance Type:            nonrobust                                         \n",
      "==================================================================================\n",
      "                     coef    std err          z      P>|z|      [0.025      0.975]\n",
      "----------------------------------------------------------------------------------\n",
      "Intercept          4.2612      0.581      7.329      0.000       3.122       5.401\n",
      "C(Pclass)[T.2]    -1.1805      0.405     -2.914      0.004      -1.974      -0.387\n",
      "C(Pclass)[T.3]    -2.4189      0.390     -6.201      0.000      -3.184      -1.654\n",
      "C(Sex)[T.male]    -2.7973      0.264    -10.578      0.000      -3.316      -2.279\n",
      "Age               -0.0500      0.010     -5.117      0.000      -0.069      -0.031\n",
      "SibSp             -0.3169      0.128     -2.474      0.013      -0.568      -0.066\n",
      "embarked_C         0.2180      0.321      0.680      0.497      -0.410       0.846\n",
      "cabin_B            0.9760      0.710      1.374      0.169      -0.416       2.368\n",
      "cabin_D            0.5450      0.592      0.921      0.357      -0.615       1.705\n",
      "cabin_E            1.0002      0.622      1.608      0.108      -0.219       2.219\n",
      "==================================================================================\n"
     ]
    }
   ],
   "source": [
    "formula = 'Survived ~ Age + SibSp + C(Pclass) + C(Sex) + embarked_C + cabin_B + cabin_D + cabin_E'# + C(Cabin_letter)' \n",
    "model = glm(formula, data = train_half, family = sm.families.Binomial()).fit() \n",
    "print(model.summary()) "
   ]
  },
  {
   "cell_type": "markdown",
   "metadata": {},
   "source": [
    "And again Embarked_C is also still remaining high so let's remove that."
   ]
  },
  {
   "cell_type": "code",
   "execution_count": 96,
   "metadata": {},
   "outputs": [
    {
     "name": "stdout",
     "output_type": "stream",
     "text": [
      "                 Generalized Linear Model Regression Results                  \n",
      "==============================================================================\n",
      "Dep. Variable:               Survived   No. Observations:                  534\n",
      "Model:                            GLM   Df Residuals:                      525\n",
      "Model Family:                Binomial   Df Model:                            8\n",
      "Link Function:                  logit   Scale:                          1.0000\n",
      "Method:                          IRLS   Log-Likelihood:                -226.69\n",
      "Date:                Tue, 19 May 2020   Deviance:                       453.38\n",
      "Time:                        10:40:51   Pearson chi2:                     513.\n",
      "No. Iterations:                     5                                         \n",
      "Covariance Type:            nonrobust                                         \n",
      "==================================================================================\n",
      "                     coef    std err          z      P>|z|      [0.025      0.975]\n",
      "----------------------------------------------------------------------------------\n",
      "Intercept          4.3573      0.565      7.707      0.000       3.249       5.466\n",
      "C(Pclass)[T.2]    -1.2321      0.398     -3.098      0.002      -2.012      -0.453\n",
      "C(Pclass)[T.3]    -2.4624      0.385     -6.400      0.000      -3.216      -1.708\n",
      "C(Sex)[T.male]    -2.8031      0.264    -10.613      0.000      -3.321      -2.285\n",
      "Age               -0.0506      0.010     -5.184      0.000      -0.070      -0.031\n",
      "SibSp             -0.3227      0.128     -2.523      0.012      -0.573      -0.072\n",
      "cabin_B            1.0567      0.705      1.500      0.134      -0.324       2.438\n",
      "cabin_D            0.5510      0.588      0.937      0.349      -0.602       1.704\n",
      "cabin_E            0.9481      0.616      1.540      0.124      -0.258       2.155\n",
      "==================================================================================\n"
     ]
    }
   ],
   "source": [
    "formula = 'Survived ~ Age + SibSp + C(Pclass) + C(Sex) + cabin_B + cabin_D + cabin_E'# + C(Cabin_letter)' \n",
    "model = glm(formula, data = train_half, family = sm.families.Binomial()).fit() \n",
    "print(model.summary()) "
   ]
  },
  {
   "cell_type": "markdown",
   "metadata": {},
   "source": [
    "And finally Cabin_D"
   ]
  },
  {
   "cell_type": "code",
   "execution_count": 99,
   "metadata": {},
   "outputs": [
    {
     "name": "stdout",
     "output_type": "stream",
     "text": [
      "                 Generalized Linear Model Regression Results                  \n",
      "==============================================================================\n",
      "Dep. Variable:               Survived   No. Observations:                  534\n",
      "Model:                            GLM   Df Residuals:                      526\n",
      "Model Family:                Binomial   Df Model:                            7\n",
      "Link Function:                  logit   Scale:                          1.0000\n",
      "Method:                          IRLS   Log-Likelihood:                -227.14\n",
      "Date:                Tue, 19 May 2020   Deviance:                       454.28\n",
      "Time:                        10:41:48   Pearson chi2:                     513.\n",
      "No. Iterations:                     5                                         \n",
      "Covariance Type:            nonrobust                                         \n",
      "==================================================================================\n",
      "                     coef    std err          z      P>|z|      [0.025      0.975]\n",
      "----------------------------------------------------------------------------------\n",
      "Intercept          4.5021      0.548      8.210      0.000       3.427       5.577\n",
      "C(Pclass)[T.2]    -1.3667      0.371     -3.680      0.000      -2.095      -0.639\n",
      "C(Pclass)[T.3]    -2.6086      0.354     -7.363      0.000      -3.303      -1.914\n",
      "C(Sex)[T.male]    -2.8234      0.264    -10.714      0.000      -3.340      -2.307\n",
      "Age               -0.0502      0.010     -5.170      0.000      -0.069      -0.031\n",
      "SibSp             -0.3198      0.127     -2.511      0.012      -0.569      -0.070\n",
      "cabin_B            0.9102      0.686      1.326      0.185      -0.435       2.256\n",
      "cabin_E            0.8315      0.601      1.383      0.167      -0.347       2.010\n",
      "==================================================================================\n"
     ]
    }
   ],
   "source": [
    "formula = 'Survived ~ Age + SibSp + C(Pclass) + C(Sex) + cabin_B + cabin_E'# + C(Cabin_letter)' \n",
    "model = glm(formula, data = train_half, family = sm.families.Binomial()).fit() \n",
    "print(model.summary()) "
   ]
  },
  {
   "cell_type": "markdown",
   "metadata": {},
   "source": [
    "Ok, so in our model these are looking pretty good now, we will accept these levels of p-value. In addtion looking at the coefficients, we can see things that make sense from our previous exploration.\n",
    "\n",
    "Such as, reduced rate given lower class, male, and increasing age. While the cabin position seems to have a positive influence for us.\n",
    "\n",
    "We will again arbitrarily use 60% of the data to train the model. I did mess around with training size with varying proportions and their corresponding accuracies. However this is difficult, because as you increase the train size, you reduce the test size, and then can't get an accurate view on how it predicts."
   ]
  },
  {
   "cell_type": "code",
   "execution_count": 100,
   "metadata": {},
   "outputs": [
    {
     "name": "stdout",
     "output_type": "stream",
     "text": [
      "Average threshold 0.561025641025641\n",
      "Mean pred 0.8138935574229693\n",
      "                 Generalized Linear Model Regression Results                  \n",
      "==============================================================================\n",
      "Dep. Variable:               Survived   No. Observations:                  534\n",
      "Model:                            GLM   Df Residuals:                      526\n",
      "Model Family:                Binomial   Df Model:                            7\n",
      "Link Function:                  logit   Scale:                          1.0000\n",
      "Method:                          IRLS   Log-Likelihood:                -227.14\n",
      "Date:                Tue, 19 May 2020   Deviance:                       454.28\n",
      "Time:                        10:44:20   Pearson chi2:                     513.\n",
      "No. Iterations:                     5                                         \n",
      "Covariance Type:            nonrobust                                         \n",
      "==================================================================================\n",
      "                     coef    std err          z      P>|z|      [0.025      0.975]\n",
      "----------------------------------------------------------------------------------\n",
      "Intercept          4.5021      0.548      8.210      0.000       3.427       5.577\n",
      "C(Pclass)[T.2]    -1.3667      0.371     -3.680      0.000      -2.095      -0.639\n",
      "C(Pclass)[T.3]    -2.6086      0.354     -7.363      0.000      -3.303      -1.914\n",
      "C(Sex)[T.male]    -2.8234      0.264    -10.714      0.000      -3.340      -2.307\n",
      "Age               -0.0502      0.010     -5.170      0.000      -0.069      -0.031\n",
      "SibSp             -0.3198      0.127     -2.511      0.012      -0.569      -0.070\n",
      "cabin_B            0.9102      0.686      1.326      0.185      -0.435       2.256\n",
      "cabin_E            0.8315      0.601      1.383      0.167      -0.347       2.010\n",
      "==================================================================================\n"
     ]
    }
   ],
   "source": [
    "#find optimized threshold for model\n",
    "def get_optimal_threshold(pred, df2):\n",
    "    n = 40 \n",
    "    thresholds = list()\n",
    "    prop_corr = list()\n",
    "    #print(len(df2))\n",
    "    for i in np.linspace(0.0, 1, n):\n",
    "        predicted_survive = (pred >= i)\n",
    "        num_correct = (predicted_survive.astype(bool)) == (df2['Survived'].astype(bool))\n",
    "        s = pd.DataFrame({'pred': predicted_survive,\n",
    "                      'surv': df2['Survived'],\n",
    "                         'AND': num_correct})\n",
    "        #print(s[0:20])\n",
    "        #break\n",
    "        #l.append([i, sum(num_correct)])\n",
    "        thresholds.append(i)\n",
    "        prop_corr.append(sum(num_correct))\n",
    "\n",
    "    df = pd.DataFrame({'threshold': thresholds, 'proportion correct':prop_corr})\n",
    "    m = df['proportion correct'].idxmax()\n",
    "    pr = df['threshold'].iloc[m]   \n",
    "    #print('Best threshold: {:04.2f}\\n'.format(pr) + 'Predictions correct: {}/{} == {:04.2f}'.format(df['proportion correct'].max(), len(df2), df['proportion correct'].max()/ len(df2)))\n",
    "    return (pr, df['proportion correct'].max()/ len(df2))\n",
    "\n",
    "#run model on random sampling and get best ratios\n",
    "thresholds = list()\n",
    "prediction_proportions = list()\n",
    "for i in range(100):\n",
    "    #randomly get 60% of data set values, use other 40% for testing\n",
    "    #print('Using {} rows of data set to train'.format(int(len(train)*0.6)))\n",
    "    data_slice = np.random.choice(len(train), replace=False, size=int(len(train)*0.6))\n",
    "    train_half = train[train.index.isin(data_slice)].copy()\n",
    "    train_2nd_half = train[~train.index.isin(data_slice)].copy()\n",
    "\n",
    "    #using our final model\n",
    "    pred_glm = model.predict(train_2nd_half) \n",
    "    thr_and_predRatio = get_optimal_threshold(pred_glm, train_2nd_half)\n",
    "    thresholds.append(thr_and_predRatio[0])\n",
    "    prediction_proportions.append(thr_and_predRatio[1])\n",
    "    \n",
    "AVG_THRESH = np.mean(thresholds)\n",
    "print('Average threshold {}'.format(AVG_THRESH))\n",
    "print('Mean pred {}'.format(np.mean(prediction_proportions)))\n",
    " "
   ]
  },
  {
   "cell_type": "markdown",
   "metadata": {},
   "source": [
    "We will pick our final model given our average threshold, and we have printed the mean prediction just to see how our model fared overall."
   ]
  },
  {
   "cell_type": "code",
   "execution_count": null,
   "metadata": {},
   "outputs": [],
   "source": [
    "# ----------------------------------------------------------------------------------------------------\n",
    "# Trial at running model with variations of testing data sizes, made things overly complex for now\n",
    "# Just leaving this code here incase I want it again\n",
    "# ---------------------------------------------------------------------------------------------------\n",
    "\n",
    "\n",
    "# Define model formula \n",
    "\n",
    "testing = False\n",
    "if testing:\n",
    "    \n",
    "    data_split_ranges = np.linspace(int(len(train)/2), int(len(train)-50), 30, dtype = int)\n",
    "\n",
    "    rows_list = []\n",
    "\n",
    "    list_glms = list()\n",
    "    l = list()\n",
    "    for i in data_split_ranges:\n",
    "\n",
    "        #get random rows\n",
    "        data_slice = np.random.choice(len(train), replace=False, size=i)\n",
    "        train_half = train[train.index.isin(data_slice)].copy()\n",
    "        train_2nd_half = train[~train.index.isin(data_slice)].copy()\n",
    "\n",
    "        formula = 'Survived ~ is_young + SibSp + Parch + C(Pclass) + C(Sex) + embarked_C + cabin_B + cabin_D + cabin_E + C(title)' # + C(Cabin_letter)' \n",
    "        model = glm(formula, data = train_half, family = sm.families.Binomial()).fit() \n",
    "        #print(model.summary()) \n",
    "        pred_glm = model.predict(train_2nd_half) \n",
    "        #list_glms.append(pred_glm)\n",
    "        #train_2nd_half['expected_survive'] = pred_glm\n",
    "        train_prop = i/len(train)*100 \n",
    "        print('Testing data with {:02.2f}% of data set'.format(train_prop))\n",
    "        thr_and_predRatio = get_optimal_threshold(pred_glm, train_2nd_half)\n",
    "        row = {'train_data_proportion':  train_prop, 'optimal_threshold': thr_and_predRatio[0], 'prediction_proportion': thr_and_predRatio[1]}\n",
    "        rows_list.append(row)\n",
    "        print('----------------------')\n",
    "\n",
    "\n",
    "    df_opt = pd.DataFrame(rows_list)\n",
    "\n",
    "\n",
    " "
   ]
  },
  {
   "cell_type": "code",
   "execution_count": 101,
   "metadata": {},
   "outputs": [],
   "source": [
    "#train model with our prefered options\n",
    "data_slice = np.random.choice(len(train), replace=False, size=int(len(train)*0.6))\n",
    "train_half = train[train.index.isin(data_slice)].copy()\n",
    "train_2nd_half = train[~train.index.isin(data_slice)].copy()\n",
    "\n",
    "#Use previous model using test data and avg threshold\n",
    "pred_glm = model.predict(test) \n",
    "predicted_survive = (pred_glm >= AVG_THRESH)\n",
    "test['Survived'] = predicted_survive.astype(int)\n",
    "test_file = test[['PassengerId', 'Survived']]\n",
    "test_file.to_csv('submission_2.csv', header=True, index=False)\n"
   ]
  },
  {
   "cell_type": "code",
   "execution_count": 102,
   "metadata": {},
   "outputs": [
    {
     "name": "stdout",
     "output_type": "stream",
     "text": [
      "Sending predictions\n",
      "Query finished\n"
     ]
    }
   ],
   "source": [
    "#Submit to kaggle\n",
    "\n",
    "import subprocess\n",
    "query = 'kaggle competitions submit -c titanic -f submission_2.csv -m \"Glm\"'.split(' ')\n",
    "\n",
    "try:\n",
    "    print('Sending predictions')\n",
    "    subprocess.check_output(query)\n",
    "except:\n",
    "    print('failed')\n",
    "\n",
    "print('Query finished')"
   ]
  },
  {
   "cell_type": "markdown",
   "metadata": {},
   "source": [
    "After finally submitting our responses, we got '0.77511' accuracy. This isn't even as good as our original model, nd if we removed any more variables we would approach that same model anyway. So in this case of GLM, our simple model seems the most appropriate. "
   ]
  }
 ],
 "metadata": {
  "kernelspec": {
   "display_name": "Python 3",
   "language": "python",
   "name": "python3"
  },
  "language_info": {
   "codemirror_mode": {
    "name": "ipython",
    "version": 3
   },
   "file_extension": ".py",
   "mimetype": "text/x-python",
   "name": "python",
   "nbconvert_exporter": "python",
   "pygments_lexer": "ipython3",
   "version": "3.7.4"
  }
 },
 "nbformat": 4,
 "nbformat_minor": 4
}
